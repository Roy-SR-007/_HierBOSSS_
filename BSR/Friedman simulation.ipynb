{
 "cells": [
  {
   "cell_type": "markdown",
   "id": "5d6434cd",
   "metadata": {},
   "source": [
    "# Friedman's five-dimensional test function"
   ]
  },
  {
   "cell_type": "code",
   "execution_count": 9,
   "id": "134db78c",
   "metadata": {},
   "outputs": [],
   "source": [
    "from codes.bsr_class_Friedman import symreg\n",
    "from codes.bsr_class_Friedman import BSR\n",
    "import pandas as pd\n",
    "import numpy as np\n",
    "import random\n",
    "import time\n",
    "import pickle"
   ]
  },
  {
   "cell_type": "code",
   "execution_count": 10,
   "id": "84278de2",
   "metadata": {},
   "outputs": [],
   "source": [
    "import pandas as pd\n",
    "import numpy as np\n",
    "import random\n",
    "import time\n",
    "import pickle\n",
    "\n",
    "## data-generation for Friedman's five-dimensional test function\n",
    "\n",
    "np.random.seed(10)\n",
    "\n",
    "p = 5\n",
    "n = 1000\n",
    "sigma = 0.01 ** 0.5\n",
    "\n",
    "## xj ~ U(j-1, j); j = 1, 2, 3, 4, 5\n",
    "\n",
    "x1 = np.random.uniform(0, 1, n)\n",
    "x2 = np.random.uniform(1, 2, n)\n",
    "x3 = np.random.uniform(2, 3, n)\n",
    "x4 = np.random.uniform(3, 4, n)\n",
    "x5 = np.random.uniform(4, 5, n)\n",
    "\n",
    "X = pd.DataFrame({'x1': x1, 'x2': x2, 'x3': x3, 'x4': x4, 'x5': x5})\n",
    "\n",
    "y = 10 * (np.sin((X.iloc[:,0]) * (X.iloc[:,1]))) + 20 * (X.iloc[:,2]**3) + 7.5 * (X.iloc[:,3] + X.iloc[:,4]) + np.random.normal(0, sigma, n)"
   ]
  },
  {
   "cell_type": "code",
   "execution_count": 11,
   "id": "0276044d",
   "metadata": {},
   "outputs": [],
   "source": [
    "K = 4\n",
    "MM = 100 # number of iterations\n",
    "hyper_params = [{'treeNum': 4, 'itrNum': 100, 'alpha1':0.4, 'alpha2':0.4, 'beta':-1.2}]\n",
    "my_bsr = BSR(K,MM)"
   ]
  },
  {
   "cell_type": "code",
   "execution_count": null,
   "id": "9125fc69",
   "metadata": {},
   "outputs": [],
   "source": [
    "numiter = 10\n",
    "rmse = [0] * (numiter)\n",
    "model_expression = [0] * (numiter)\n",
    "beta_hat = [0] * (numiter)\n",
    "y1 = y.to_numpy()\n",
    "st = time.time()\n",
    "\n",
    "for i in range(numiter):\n",
    "    my_bsr.fit(X, y)\n",
    "    model_expression[i] = my_bsr.model()\n",
    "    fitted_y, beta_hat[i] = my_bsr.predict(X)\n",
    "    rmse[i] = (np.sum((y1 - fitted_y) ** 2) ** 0.50)/(len(y) ** 0.50)\n",
    "\n",
    "time.time() - st"
   ]
  },
  {
   "cell_type": "code",
   "execution_count": null,
   "id": "40cdebaf",
   "metadata": {},
   "outputs": [],
   "source": [
    "## saving the results\n",
    "BSRresults_Friedman = {'X': X, 'y': y, 'rmse': rmse, 'expr': model_expression, 'runtime': time.time() - st}\n",
    "with open(\"BSRresults_Friedman.pkl\", \"wb\") as f:\n",
    "    pickle.dump(BSRresults_Friedman, f)"
   ]
  },
  {
   "cell_type": "code",
   "execution_count": null,
   "id": "fb35788d",
   "metadata": {},
   "outputs": [],
   "source": [
    "rmse"
   ]
  },
  {
   "cell_type": "code",
   "execution_count": null,
   "id": "4e1c34fb",
   "metadata": {},
   "outputs": [],
   "source": [
    "model_expression"
   ]
  },
  {
   "cell_type": "code",
   "execution_count": null,
   "id": "e2a371de",
   "metadata": {},
   "outputs": [],
   "source": [
    "beta_hat"
   ]
  },
  {
   "cell_type": "code",
   "execution_count": 17,
   "id": "93783b7a",
   "metadata": {},
   "outputs": [],
   "source": [
    "import pickle\n",
    "file = open('BSRresults_Friedman.pkl', 'rb')\n",
    "\n",
    "BSRresults_Friedman = pickle.load(file)"
   ]
  },
  {
   "cell_type": "code",
   "execution_count": 18,
   "id": "9a4d894c",
   "metadata": {},
   "outputs": [
    {
     "data": {
      "text/plain": [
       "{'X':            x1        x2        x3        x4        x5\n",
       " 0    0.771321  1.348330  2.589778  3.945340  4.625583\n",
       " 1    0.020752  1.808963  2.773457  3.067209  4.895780\n",
       " 2    0.633648  1.459637  2.558471  3.627910  4.001011\n",
       " 3    0.748804  1.626124  2.185223  3.416330  4.179123\n",
       " 4    0.498507  1.203647  2.367447  3.645390  4.677238\n",
       " ..        ...       ...       ...       ...       ...\n",
       " 995  0.515589  1.916150  2.038099  3.290944  4.267579\n",
       " 996  0.210153  1.496950  2.138065  3.868598  4.092773\n",
       " 997  0.165113  1.456260  2.184446  3.968910  4.029143\n",
       " 998  0.689948  1.946957  2.740025  3.403354  4.812981\n",
       " 999  0.095189  1.037962  2.921040  3.305500  4.312157\n",
       " \n",
       " [1000 rows x 5 columns],\n",
       " 'y': 0      420.253028\n",
       " 1      486.709648\n",
       " 2      400.139944\n",
       " 3      274.958924\n",
       " 4      333.310530\n",
       "           ...    \n",
       " 995    234.368311\n",
       " 996    258.424770\n",
       " 997    270.878193\n",
       " 998    482.843925\n",
       " 999    556.490000\n",
       " Length: 1000, dtype: float64,\n",
       " 'rmse': [4958.324975373814,\n",
       "  4951.8410913760745,\n",
       "  4974.666780201787,\n",
       "  4974.527734134092,\n",
       "  3527.1303297172212,\n",
       "  4966.408780090444,\n",
       "  4900.913014946641,\n",
       "  4893.053379852624,\n",
       "  4749.471855777988,\n",
       "  4969.982150260202],\n",
       " 'expr': [['sin(x[0])',\n",
       "   'x[0]+x[2]',\n",
       "   '(x[0])*((((x[2])*(x[0]))*(x[2]))*(x[4]+x[1]))',\n",
       "   '((x[1])*(x[2]))*(x[2])'],\n",
       "  ['(x[2])*(x[3])+x[0]',\n",
       "   '(x[3])*(x[3])',\n",
       "   '(x[0])*(x[3])+sin(sin(x[1]))',\n",
       "   'sin(((x[4])*(x[3]))*(sin(x[1]+x[0])))'],\n",
       "  ['(x[2])*(x[2])',\n",
       "   'sin(sin(x[2]))',\n",
       "   '(x[4])*(x[4])',\n",
       "   'sin((x[0])*(sin(x[2]))+x[3]+x[0]+x[0]+x[1])'],\n",
       "  ['((x[2])*(x[2]))*(x[2])',\n",
       "   'sin(x[2])',\n",
       "   '(x[0])*(x[0]+(x[4])*(x[4]))',\n",
       "   '((x[3])*(x[3]))*(sin(x[2]))+x[2]'],\n",
       "  ['((x[0])*(((x[3])*(x[1]))*(x[1])))*(x[4])',\n",
       "   '(x[4])*(x[0])',\n",
       "   '((x[4])*(sin(x[0])))*(x[4]+x[0])',\n",
       "   'sin((x[1])*(x[4]))'],\n",
       "  ['(sin(x[4]))*(x[0])',\n",
       "   '(x[4])*((x[1])*((x[0]+x[3])*((x[4])*((x[1])*(x[2])))))',\n",
       "   '(sin(x[2]))*(x[3])',\n",
       "   '(x[1])*((x[3])*(x[2]))+(x[2])*(x[4]+x[2])'],\n",
       "  ['(x[4])*(x[4])+x[3]',\n",
       "   'x[4]+sin(x[4])',\n",
       "   'x[0]+x[4]',\n",
       "   '(x[2])*(x[4])+x[1]+x[0]'],\n",
       "  ['(x[3])*((x[3])*(x[0]+x[3]+x[2]))',\n",
       "   '(x[1])*((x[2])*(x[0]))',\n",
       "   'x[3]+x[1]',\n",
       "   'sin(x[0]+x[2])'],\n",
       "  ['(x[4])*((sin(x[1]))*(x[3]))+x[2]',\n",
       "   '(x[3])*(x[2])+sin((x[0])*(x[0]))',\n",
       "   'sin(x[0])',\n",
       "   '(((x[0])*((x[0])*(x[2])))*(sin(x[2])))*((x[2])*(x[3]))'],\n",
       "  ['(x[4])*((x[3])*(x[0]))',\n",
       "   '(x[4])*(x[2])',\n",
       "   '(x[4])*(x[4])',\n",
       "   'sin(x[2]+x[2])']],\n",
       " 'runtime': 418.8072929382324}"
      ]
     },
     "execution_count": 18,
     "metadata": {},
     "output_type": "execute_result"
    }
   ],
   "source": [
    "BSRresults_Friedman"
   ]
  },
  {
   "cell_type": "code",
   "execution_count": null,
   "id": "9ef78821",
   "metadata": {},
   "outputs": [],
   "source": []
  }
 ],
 "metadata": {
  "kernelspec": {
   "display_name": "Python 3 (ipykernel)",
   "language": "python",
   "name": "python3"
  },
  "language_info": {
   "codemirror_mode": {
    "name": "ipython",
    "version": 3
   },
   "file_extension": ".py",
   "mimetype": "text/x-python",
   "name": "python",
   "nbconvert_exporter": "python",
   "pygments_lexer": "ipython3",
   "version": "3.11.5"
  }
 },
 "nbformat": 4,
 "nbformat_minor": 5
}
