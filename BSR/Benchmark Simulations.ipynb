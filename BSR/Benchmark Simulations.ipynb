{
 "cells": [
  {
   "cell_type": "code",
   "execution_count": 1,
   "id": "f74f3b10",
   "metadata": {},
   "outputs": [],
   "source": [
    "import pandas as pd\n",
    "import numpy as np\n",
    "import random\n",
    "import time\n",
    "# from codes.bsr_class import symreg\n",
    "from codes.bsr_class_Copy1 import BSR"
   ]
  },
  {
   "cell_type": "code",
   "execution_count": 2,
   "id": "865a8da7",
   "metadata": {},
   "outputs": [],
   "source": [
    "def f1(n_train=100,n_test=30):\n",
    "    \"\"\"\n",
    "    y = 1.35 * (x0*x1) + 1.5 * (sin(x0*x1)) + epsilon\n",
    "    sigma_sq = 0.1\n",
    "    \"\"\"\n",
    "    sigma = 0.1 ** 0.50\n",
    "    \n",
    "    x1 = np.random.uniform(0.1, 3.0, n_train)\n",
    "    x2 = np.random.uniform(4.1, 6.0, n_train)\n",
    "    x1 = pd.DataFrame(x1)\n",
    "    x2 = pd.DataFrame(x2)\n",
    "    Xtrain = pd.concat([x1, x2], axis=1)\n",
    "    ytrain = 1.35 * (Xtrain.iloc[:,0]*Xtrain.iloc[:,1]) + 1.50 * (np.sin((Xtrain.iloc[:,0])*(Xtrain.iloc[:,1]))) + np.random.normal(0, sigma, n_train)\n",
    "\n",
    "    x1_test = np.random.uniform(0.1, 3.0, n_test)\n",
    "    x2_test = np.random.uniform(4.1, 6.0, n_test)\n",
    "    x1_test = pd.DataFrame(x1_test)\n",
    "    x2_test = pd.DataFrame(x2_test)\n",
    "    Xtest = pd.concat([x1_test, x2_test], axis=1)\n",
    "    ytest = 1.35 * (Xtest.iloc[:, 0] * Xtest.iloc[:, 1]) + 1.50 * (np.sin((Xtest.iloc[:, 0]) * (Xtest.iloc[:, 1]))) +np.random.normal(0, sigma, n_test)\n",
    "    return Xtrain, ytrain, Xtest, ytest"
   ]
  },
  {
   "cell_type": "code",
   "execution_count": 56,
   "id": "442c669c",
   "metadata": {},
   "outputs": [],
   "source": [
    "def f2(n_train=100,n_test=30):\n",
    "    \"\"\"\n",
    "    y = 1.5 * exp(x0) + 5.0 * cos(x1) + epsilon\n",
    "    sigma_sq = 0.1\n",
    "    \"\"\"\n",
    "    sigma = 0.1 ** 0.50\n",
    "    \n",
    "    x1 = np.random.uniform(0.1, 0.5, n_train)\n",
    "    x2 = np.random.uniform(1.0, 1.5, n_train)\n",
    "    x1 = pd.DataFrame(x1)\n",
    "    x2 = pd.DataFrame(x2)\n",
    "    Xtrain = pd.concat([x1, x2], axis=1)\n",
    "    ytrain = (1.5 * np.exp(Xtrain.iloc[:, 0])) + (5.0 * np.cos(Xtrain.iloc[:, 1])) + np.random.normal(0, sigma, n_train)\n",
    "\n",
    "    x1_test = np.random.uniform(0.1, 3.0, n_test)\n",
    "    x2_test = np.random.uniform(4.1, 6.0, n_test)\n",
    "    x1_test = pd.DataFrame(x1_test)\n",
    "    x2_test = pd.DataFrame(x2_test)\n",
    "    Xtest = pd.concat([x1_test, x2_test], axis=1)\n",
    "    ytest = (1.5 * np.exp(Xtest.iloc[:, 0])) + (5.0 * np.cos(Xtest.iloc[:, 1])) + np.random.normal(0, sigma, n_test)\n",
    "    return Xtrain, ytrain, Xtest, ytest"
   ]
  },
  {
   "cell_type": "code",
   "execution_count": 5,
   "id": "d6444fa5",
   "metadata": {},
   "outputs": [],
   "source": [
    "def f3(n_train=100,n_test=30):\n",
    "    \"\"\"\n",
    "    y = 6 * (sin(x0)*cos(x1)) + epsilon\n",
    "    sigma_sq = 0.1\n",
    "    \"\"\"\n",
    "    sigma = 0.1 ** 0.50\n",
    "    \n",
    "    x1 = np.random.uniform(-1, 1, n_train)\n",
    "    x2 = np.random.uniform(1.5, 2, n_train)\n",
    "    x1 = pd.DataFrame(x1)\n",
    "    x2 = pd.DataFrame(x2)\n",
    "    Xtrain = pd.concat([x1, x2], axis=1)\n",
    "    ytrain = 6.0 * np.sin(Xtrain.iloc[:, 0]) * np.cos(Xtrain.iloc[:, 1]) + np.random.normal(0, sigma, n_train)\n",
    "\n",
    "    x1_test = np.random.uniform(-1, 1, n_test)\n",
    "    x2_test = np.random.uniform(1.5, 2, n_test)\n",
    "    x1_test = pd.DataFrame(x1_test)\n",
    "    x2_test = pd.DataFrame(x2_test)\n",
    "    Xtest = pd.concat([x1_test, x2_test], axis=1)\n",
    "    ytest = 6.0 * np.sin(Xtest.iloc[:, 0]) * np.cos(Xtest.iloc[:, 1]) + np.random.normal(0, sigma, n_test)\n",
    "    return Xtrain, ytrain, Xtest, ytest"
   ]
  },
  {
   "cell_type": "code",
   "execution_count": 3,
   "id": "060dc762",
   "metadata": {},
   "outputs": [],
   "source": [
    "# Testing BSR using f1\n",
    "\n",
    "K = 2 # number of trees\n",
    "MM = 100 # number of iterations\n",
    "hyper_params = [{'treeNum': 2, 'itrNum':100, 'alpha1':0.4, 'alpha2':0.4, 'beta':-1.2}]\n",
    "my_bsr = BSR(K,MM)"
   ]
  },
  {
   "cell_type": "code",
   "execution_count": 4,
   "id": "956cf54a",
   "metadata": {},
   "outputs": [
    {
     "name": "stderr",
     "output_type": "stream",
     "text": [
      "/Users/somjit/anaconda3/lib/python3.11/site-packages/bsr-0.1.1-py3.11.egg/bsr/funcs.py:205: RuntimeWarning: overflow encountered in power\n",
      "/Users/somjit/anaconda3/lib/python3.11/site-packages/bsr-0.1.1-py3.11.egg/bsr/funcs.py:203: RuntimeWarning: overflow encountered in square\n",
      "/Users/somjit/anaconda3/lib/python3.11/site-packages/bsr-0.1.1-py3.11.egg/bsr/funcs.py:199: RuntimeWarning: invalid value encountered in sin\n"
     ]
    },
    {
     "ename": "LinAlgError",
     "evalue": "SVD did not converge",
     "output_type": "error",
     "traceback": [
      "\u001b[0;31m---------------------------------------------------------------------------\u001b[0m",
      "\u001b[0;31mLinAlgError\u001b[0m                               Traceback (most recent call last)",
      "Cell \u001b[0;32mIn[4], line 15\u001b[0m\n\u001b[1;32m     12\u001b[0m st \u001b[38;5;241m=\u001b[39m time\u001b[38;5;241m.\u001b[39mtime()\n\u001b[1;32m     14\u001b[0m \u001b[38;5;28;01mfor\u001b[39;00m i \u001b[38;5;129;01min\u001b[39;00m \u001b[38;5;28mrange\u001b[39m(numiter):\n\u001b[0;32m---> 15\u001b[0m     my_bsr\u001b[38;5;241m.\u001b[39mfit(Xtrain, ytrain)\n\u001b[1;32m     16\u001b[0m     model_expression[i] \u001b[38;5;241m=\u001b[39m my_bsr\u001b[38;5;241m.\u001b[39mmodel()\n\u001b[1;32m     17\u001b[0m     fitted_y, beta_hat[i] \u001b[38;5;241m=\u001b[39m my_bsr\u001b[38;5;241m.\u001b[39mpredict(Xtest)\n",
      "File \u001b[0;32m~/Library/CloudStorage/OneDrive-TexasA&MUniversity/BTNN-SR/MCMC-SymReg/codes/bsr_class_Copy1.py:193\u001b[0m, in \u001b[0;36mBSR.fit\u001b[0;34m(self, train_data, train_y)\u001b[0m\n\u001b[1;32m    191\u001b[0m \u001b[38;5;66;03m# the returned Root is a new copy\u001b[39;00m\n\u001b[1;32m    192\u001b[0m \u001b[38;5;28;01mif\u001b[39;00m \u001b[38;5;28mself\u001b[39m\u001b[38;5;241m.\u001b[39mdisp: \u001b[38;5;28mprint\u001b[39m(\u001b[38;5;124m'\u001b[39m\u001b[38;5;124mnewProp...\u001b[39m\u001b[38;5;124m'\u001b[39m)\n\u001b[0;32m--> 193\u001b[0m [res, sigma, Root, sigma_a, sigma_b] \u001b[38;5;241m=\u001b[39m newProp(Roots, count, sigma, train_y, train_data, n_feature, Ops,\n\u001b[1;32m    194\u001b[0m                                                Op_weights, Op_type, beta, sigma_a, sigma_b)\n\u001b[1;32m    195\u001b[0m \u001b[38;5;28;01mif\u001b[39;00m \u001b[38;5;28mself\u001b[39m\u001b[38;5;241m.\u001b[39mdisp:\n\u001b[1;32m    196\u001b[0m     \u001b[38;5;28mprint\u001b[39m(\u001b[38;5;124m\"\u001b[39m\u001b[38;5;124mres:\u001b[39m\u001b[38;5;124m\"\u001b[39m,res)\n",
      "File \u001b[0;32m~/anaconda3/lib/python3.11/site-packages/bsr-0.1.1-py3.11.egg/bsr/funcs.py:1226\u001b[0m, in \u001b[0;36mnewProp\u001b[0;34m(Roots, count, sigma, y, indata, n_feature, Ops, Op_weights, Op_type, beta, sigma_a, sigma_b)\u001b[0m\n\u001b[1;32m   1223\u001b[0m         new_outputs[:, i] \u001b[38;5;241m=\u001b[39m temp\n\u001b[1;32m   1224\u001b[0m         old_outputs[:, i] \u001b[38;5;241m=\u001b[39m temp\n\u001b[0;32m-> 1226\u001b[0m \u001b[38;5;28;01mif\u001b[39;00m np\u001b[38;5;241m.\u001b[39mlinalg\u001b[38;5;241m.\u001b[39mmatrix_rank(new_outputs) \u001b[38;5;241m<\u001b[39m K:\n\u001b[1;32m   1227\u001b[0m     Root \u001b[38;5;241m=\u001b[39m oldRoot\n\u001b[1;32m   1228\u001b[0m     \u001b[38;5;28;01mreturn\u001b[39;00m [\u001b[38;5;28;01mFalse\u001b[39;00m, sigma, copy\u001b[38;5;241m.\u001b[39mdeepcopy(oldRoot), sigma_a, sigma_b]\n",
      "File \u001b[0;32m<__array_function__ internals>:200\u001b[0m, in \u001b[0;36mmatrix_rank\u001b[0;34m(*args, **kwargs)\u001b[0m\n",
      "File \u001b[0;32m~/anaconda3/lib/python3.11/site-packages/numpy/linalg/linalg.py:1883\u001b[0m, in \u001b[0;36mmatrix_rank\u001b[0;34m(A, tol, hermitian)\u001b[0m\n\u001b[1;32m   1881\u001b[0m \u001b[38;5;28;01mif\u001b[39;00m A\u001b[38;5;241m.\u001b[39mndim \u001b[38;5;241m<\u001b[39m \u001b[38;5;241m2\u001b[39m:\n\u001b[1;32m   1882\u001b[0m     \u001b[38;5;28;01mreturn\u001b[39;00m \u001b[38;5;28mint\u001b[39m(\u001b[38;5;129;01mnot\u001b[39;00m \u001b[38;5;28mall\u001b[39m(A\u001b[38;5;241m==\u001b[39m\u001b[38;5;241m0\u001b[39m))\n\u001b[0;32m-> 1883\u001b[0m S \u001b[38;5;241m=\u001b[39m svd(A, compute_uv\u001b[38;5;241m=\u001b[39m\u001b[38;5;28;01mFalse\u001b[39;00m, hermitian\u001b[38;5;241m=\u001b[39mhermitian)\n\u001b[1;32m   1884\u001b[0m \u001b[38;5;28;01mif\u001b[39;00m tol \u001b[38;5;129;01mis\u001b[39;00m \u001b[38;5;28;01mNone\u001b[39;00m:\n\u001b[1;32m   1885\u001b[0m     tol \u001b[38;5;241m=\u001b[39m S\u001b[38;5;241m.\u001b[39mmax(axis\u001b[38;5;241m=\u001b[39m\u001b[38;5;241m-\u001b[39m\u001b[38;5;241m1\u001b[39m, keepdims\u001b[38;5;241m=\u001b[39m\u001b[38;5;28;01mTrue\u001b[39;00m) \u001b[38;5;241m*\u001b[39m \u001b[38;5;28mmax\u001b[39m(A\u001b[38;5;241m.\u001b[39mshape[\u001b[38;5;241m-\u001b[39m\u001b[38;5;241m2\u001b[39m:]) \u001b[38;5;241m*\u001b[39m finfo(S\u001b[38;5;241m.\u001b[39mdtype)\u001b[38;5;241m.\u001b[39meps\n",
      "File \u001b[0;32m<__array_function__ internals>:200\u001b[0m, in \u001b[0;36msvd\u001b[0;34m(*args, **kwargs)\u001b[0m\n",
      "File \u001b[0;32m~/anaconda3/lib/python3.11/site-packages/numpy/linalg/linalg.py:1654\u001b[0m, in \u001b[0;36msvd\u001b[0;34m(a, full_matrices, compute_uv, hermitian)\u001b[0m\n\u001b[1;32m   1651\u001b[0m     gufunc \u001b[38;5;241m=\u001b[39m _umath_linalg\u001b[38;5;241m.\u001b[39msvd_n\n\u001b[1;32m   1653\u001b[0m signature \u001b[38;5;241m=\u001b[39m \u001b[38;5;124m'\u001b[39m\u001b[38;5;124mD->d\u001b[39m\u001b[38;5;124m'\u001b[39m \u001b[38;5;28;01mif\u001b[39;00m isComplexType(t) \u001b[38;5;28;01melse\u001b[39;00m \u001b[38;5;124m'\u001b[39m\u001b[38;5;124md->d\u001b[39m\u001b[38;5;124m'\u001b[39m\n\u001b[0;32m-> 1654\u001b[0m s \u001b[38;5;241m=\u001b[39m gufunc(a, signature\u001b[38;5;241m=\u001b[39msignature, extobj\u001b[38;5;241m=\u001b[39mextobj)\n\u001b[1;32m   1655\u001b[0m s \u001b[38;5;241m=\u001b[39m s\u001b[38;5;241m.\u001b[39mastype(_realType(result_t), copy\u001b[38;5;241m=\u001b[39m\u001b[38;5;28;01mFalse\u001b[39;00m)\n\u001b[1;32m   1656\u001b[0m \u001b[38;5;28;01mreturn\u001b[39;00m s\n",
      "File \u001b[0;32m~/anaconda3/lib/python3.11/site-packages/numpy/linalg/linalg.py:98\u001b[0m, in \u001b[0;36m_raise_linalgerror_svd_nonconvergence\u001b[0;34m(err, flag)\u001b[0m\n\u001b[1;32m     97\u001b[0m \u001b[38;5;28;01mdef\u001b[39;00m \u001b[38;5;21m_raise_linalgerror_svd_nonconvergence\u001b[39m(err, flag):\n\u001b[0;32m---> 98\u001b[0m     \u001b[38;5;28;01mraise\u001b[39;00m LinAlgError(\u001b[38;5;124m\"\u001b[39m\u001b[38;5;124mSVD did not converge\u001b[39m\u001b[38;5;124m\"\u001b[39m)\n",
      "\u001b[0;31mLinAlgError\u001b[0m: SVD did not converge"
     ]
    }
   ],
   "source": [
    "random.seed(10)\n",
    "\n",
    "n_train = 100\n",
    "n_test = 30\n",
    "Xtrain, ytrain, Xtest, ytest = f1(n_train, n_test)\n",
    "\n",
    "numiter = 10\n",
    "rmse = [0] * (numiter)\n",
    "model_expression = [0] * (numiter)\n",
    "beta_hat = [0] * (numiter)\n",
    "y1 = ytest.to_numpy()\n",
    "st = time.time()\n",
    "\n",
    "for i in range(numiter):\n",
    "    my_bsr.fit(Xtrain, ytrain)\n",
    "    model_expression[i] = my_bsr.model()\n",
    "    fitted_y, beta_hat[i] = my_bsr.predict(Xtest)\n",
    "    rmse[i] = (np.sum((y1 - fitted_y) ** 2) ** 0.50)/(len(y1) ** 0.50)\n",
    "\n",
    "runtime = time.time() - st"
   ]
  },
  {
   "cell_type": "code",
   "execution_count": 25,
   "id": "ec40069b",
   "metadata": {},
   "outputs": [
    {
     "data": {
      "text/plain": [
       "[['(x[0])*((sin(x[0]))^2)', 'sin((x[1])^3)'],\n",
       " ['-(x[1]+sin(x[1]))', '(x[1]+x[0])^2'],\n",
       " ['(1/[exp((x[0])*(x[1]))])*((x[1])*(x[0]))', '-((x[0])*(x[1]))'],\n",
       " ['-(-(-(-(-((x[0]+x[0]+x[0])*(x[1]+x[1]))))))+((cos(sin(x[1])))^3)^2',\n",
       "  'sin(-(sin(sin(-((-(-(-(x[0]))))*(-(x[1])))))))'],\n",
       " ['1/[(x[0])^2]+(x[1])^3+x[0]', '-(x[0])'],\n",
       " ['(1/[sin(x[1])])^2', 'x[1]+exp(x[0])'],\n",
       " ['(x[1])*(x[0])+sin(((x[0])^3)*(x[0]))', '(x[1])^2'],\n",
       " ['-(x[0]+x[0])', 'sin(sin(cos(x[1])))'],\n",
       " ['((x[0])*(sin(x[0]+-(x[0])))+x[0])^3', 'exp(x[0])'],\n",
       " ['cos((x[1])^2)', '(x[1]+(x[1]+x[0])^3)^2']]"
      ]
     },
     "execution_count": 25,
     "metadata": {},
     "output_type": "execute_result"
    }
   ],
   "source": [
    "model_expression"
   ]
  },
  {
   "cell_type": "code",
   "execution_count": 26,
   "id": "33d096d8",
   "metadata": {},
   "outputs": [
    {
     "data": {
      "text/plain": [
       "[36.551823215286944,\n",
       " 45.956191812950195,\n",
       " 46.06150410510851,\n",
       " 46.24858765643355,\n",
       " 44.66995317783747,\n",
       " 44.42601102338313,\n",
       " 46.1103491552694,\n",
       " 45.58449278569239,\n",
       " 47.62220014852188,\n",
       " 48.71576025438018]"
      ]
     },
     "execution_count": 26,
     "metadata": {},
     "output_type": "execute_result"
    }
   ],
   "source": [
    "rmse"
   ]
  },
  {
   "cell_type": "code",
   "execution_count": 27,
   "id": "5ef181e9",
   "metadata": {},
   "outputs": [
    {
     "data": {
      "text/plain": [
       "198.46101307868958"
      ]
     },
     "execution_count": 27,
     "metadata": {},
     "output_type": "execute_result"
    }
   ],
   "source": [
    "runtime"
   ]
  },
  {
   "cell_type": "code",
   "execution_count": 28,
   "id": "2f9b5e14",
   "metadata": {},
   "outputs": [
    {
     "data": {
      "text/plain": [
       "[array([[ 7.92469364],\n",
       "        [ 3.70750232],\n",
       "        [-0.54414212]]),\n",
       " array([[2.52452053],\n",
       "        [3.24764354],\n",
       "        [0.49552921]]),\n",
       " array([[-0.72652315],\n",
       "        [ 5.68167047],\n",
       "        [-1.42922337]]),\n",
       " array([[ 0.08684445],\n",
       "        [-0.22542654],\n",
       "        [ 1.93773102]]),\n",
       " array([[-3.26535897],\n",
       "        [ 0.02859256],\n",
       "        [-6.59379679]]),\n",
       " array([[-1.7004743 ],\n",
       "        [ 0.30142384],\n",
       "        [ 1.03292324]]),\n",
       " array([[ 6.37935187e-01],\n",
       "        [ 1.28880243e+00],\n",
       "        [-6.06420339e-04]]),\n",
       " array([[ 0.29524727],\n",
       "        [-3.20584219],\n",
       "        [ 2.79062957]]),\n",
       " array([[-5.36834948],\n",
       "        [-3.46472445],\n",
       "        [ 6.17903652]]),\n",
       " array([[ 1.09072798e-03],\n",
       "        [-2.88553372e-05],\n",
       "        [ 8.04034684e-05]])]"
      ]
     },
     "execution_count": 28,
     "metadata": {},
     "output_type": "execute_result"
    }
   ],
   "source": [
    "beta_hat"
   ]
  },
  {
   "cell_type": "code",
   "execution_count": 57,
   "id": "a41cd003",
   "metadata": {},
   "outputs": [],
   "source": [
    "# Testing BSR using f2\n",
    "\n",
    "K = 2 # number of trees\n",
    "MM = 100 # number of iterations\n",
    "hyper_params = [{'treeNum': 2, 'itrNum':100, 'alpha1':0.4, 'alpha2':0.4, 'beta':-1.2}]\n",
    "my_bsr = BSR(K,MM)"
   ]
  },
  {
   "cell_type": "code",
   "execution_count": 58,
   "id": "39ffabaf",
   "metadata": {},
   "outputs": [
    {
     "ename": "LinAlgError",
     "evalue": "SVD did not converge",
     "output_type": "error",
     "traceback": [
      "\u001b[0;31m---------------------------------------------------------------------------\u001b[0m",
      "\u001b[0;31mLinAlgError\u001b[0m                               Traceback (most recent call last)",
      "Cell \u001b[0;32mIn[58], line 15\u001b[0m\n\u001b[1;32m     12\u001b[0m st \u001b[38;5;241m=\u001b[39m time\u001b[38;5;241m.\u001b[39mtime()\n\u001b[1;32m     14\u001b[0m \u001b[38;5;28;01mfor\u001b[39;00m i \u001b[38;5;129;01min\u001b[39;00m \u001b[38;5;28mrange\u001b[39m(numiter):\n\u001b[0;32m---> 15\u001b[0m     my_bsr\u001b[38;5;241m.\u001b[39mfit(Xtrain, ytrain)\n\u001b[1;32m     16\u001b[0m     model_expression[i] \u001b[38;5;241m=\u001b[39m my_bsr\u001b[38;5;241m.\u001b[39mmodel()\n\u001b[1;32m     17\u001b[0m     fitted_y, beta_hat[i] \u001b[38;5;241m=\u001b[39m my_bsr\u001b[38;5;241m.\u001b[39mpredict(Xtest)\n",
      "File \u001b[0;32m~/Library/CloudStorage/OneDrive-TexasA&MUniversity/BTNN-SR/MCMC-SymReg/codes/bsr_class_Copy1.py:193\u001b[0m, in \u001b[0;36mBSR.fit\u001b[0;34m(self, train_data, train_y)\u001b[0m\n\u001b[1;32m    191\u001b[0m \u001b[38;5;66;03m# the returned Root is a new copy\u001b[39;00m\n\u001b[1;32m    192\u001b[0m \u001b[38;5;28;01mif\u001b[39;00m \u001b[38;5;28mself\u001b[39m\u001b[38;5;241m.\u001b[39mdisp: \u001b[38;5;28mprint\u001b[39m(\u001b[38;5;124m'\u001b[39m\u001b[38;5;124mnewProp...\u001b[39m\u001b[38;5;124m'\u001b[39m)\n\u001b[0;32m--> 193\u001b[0m [res, sigma, Root, sigma_a, sigma_b] \u001b[38;5;241m=\u001b[39m newProp(Roots, count, sigma, train_y, train_data, n_feature, Ops,\n\u001b[1;32m    194\u001b[0m                                                Op_weights, Op_type, beta, sigma_a, sigma_b)\n\u001b[1;32m    195\u001b[0m \u001b[38;5;28;01mif\u001b[39;00m \u001b[38;5;28mself\u001b[39m\u001b[38;5;241m.\u001b[39mdisp:\n\u001b[1;32m    196\u001b[0m     \u001b[38;5;28mprint\u001b[39m(\u001b[38;5;124m\"\u001b[39m\u001b[38;5;124mres:\u001b[39m\u001b[38;5;124m\"\u001b[39m,res)\n",
      "File \u001b[0;32m~/anaconda3/lib/python3.11/site-packages/bsr-0.1.1-py3.11.egg/bsr/funcs.py:1226\u001b[0m, in \u001b[0;36mnewProp\u001b[0;34m(Roots, count, sigma, y, indata, n_feature, Ops, Op_weights, Op_type, beta, sigma_a, sigma_b)\u001b[0m\n\u001b[1;32m   1223\u001b[0m         new_outputs[:, i] \u001b[38;5;241m=\u001b[39m temp\n\u001b[1;32m   1224\u001b[0m         old_outputs[:, i] \u001b[38;5;241m=\u001b[39m temp\n\u001b[0;32m-> 1226\u001b[0m \u001b[38;5;28;01mif\u001b[39;00m np\u001b[38;5;241m.\u001b[39mlinalg\u001b[38;5;241m.\u001b[39mmatrix_rank(new_outputs) \u001b[38;5;241m<\u001b[39m K:\n\u001b[1;32m   1227\u001b[0m     Root \u001b[38;5;241m=\u001b[39m oldRoot\n\u001b[1;32m   1228\u001b[0m     \u001b[38;5;28;01mreturn\u001b[39;00m [\u001b[38;5;28;01mFalse\u001b[39;00m, sigma, copy\u001b[38;5;241m.\u001b[39mdeepcopy(oldRoot), sigma_a, sigma_b]\n",
      "File \u001b[0;32m<__array_function__ internals>:200\u001b[0m, in \u001b[0;36mmatrix_rank\u001b[0;34m(*args, **kwargs)\u001b[0m\n",
      "File \u001b[0;32m~/anaconda3/lib/python3.11/site-packages/numpy/linalg/linalg.py:1883\u001b[0m, in \u001b[0;36mmatrix_rank\u001b[0;34m(A, tol, hermitian)\u001b[0m\n\u001b[1;32m   1881\u001b[0m \u001b[38;5;28;01mif\u001b[39;00m A\u001b[38;5;241m.\u001b[39mndim \u001b[38;5;241m<\u001b[39m \u001b[38;5;241m2\u001b[39m:\n\u001b[1;32m   1882\u001b[0m     \u001b[38;5;28;01mreturn\u001b[39;00m \u001b[38;5;28mint\u001b[39m(\u001b[38;5;129;01mnot\u001b[39;00m \u001b[38;5;28mall\u001b[39m(A\u001b[38;5;241m==\u001b[39m\u001b[38;5;241m0\u001b[39m))\n\u001b[0;32m-> 1883\u001b[0m S \u001b[38;5;241m=\u001b[39m svd(A, compute_uv\u001b[38;5;241m=\u001b[39m\u001b[38;5;28;01mFalse\u001b[39;00m, hermitian\u001b[38;5;241m=\u001b[39mhermitian)\n\u001b[1;32m   1884\u001b[0m \u001b[38;5;28;01mif\u001b[39;00m tol \u001b[38;5;129;01mis\u001b[39;00m \u001b[38;5;28;01mNone\u001b[39;00m:\n\u001b[1;32m   1885\u001b[0m     tol \u001b[38;5;241m=\u001b[39m S\u001b[38;5;241m.\u001b[39mmax(axis\u001b[38;5;241m=\u001b[39m\u001b[38;5;241m-\u001b[39m\u001b[38;5;241m1\u001b[39m, keepdims\u001b[38;5;241m=\u001b[39m\u001b[38;5;28;01mTrue\u001b[39;00m) \u001b[38;5;241m*\u001b[39m \u001b[38;5;28mmax\u001b[39m(A\u001b[38;5;241m.\u001b[39mshape[\u001b[38;5;241m-\u001b[39m\u001b[38;5;241m2\u001b[39m:]) \u001b[38;5;241m*\u001b[39m finfo(S\u001b[38;5;241m.\u001b[39mdtype)\u001b[38;5;241m.\u001b[39meps\n",
      "File \u001b[0;32m<__array_function__ internals>:200\u001b[0m, in \u001b[0;36msvd\u001b[0;34m(*args, **kwargs)\u001b[0m\n",
      "File \u001b[0;32m~/anaconda3/lib/python3.11/site-packages/numpy/linalg/linalg.py:1654\u001b[0m, in \u001b[0;36msvd\u001b[0;34m(a, full_matrices, compute_uv, hermitian)\u001b[0m\n\u001b[1;32m   1651\u001b[0m     gufunc \u001b[38;5;241m=\u001b[39m _umath_linalg\u001b[38;5;241m.\u001b[39msvd_n\n\u001b[1;32m   1653\u001b[0m signature \u001b[38;5;241m=\u001b[39m \u001b[38;5;124m'\u001b[39m\u001b[38;5;124mD->d\u001b[39m\u001b[38;5;124m'\u001b[39m \u001b[38;5;28;01mif\u001b[39;00m isComplexType(t) \u001b[38;5;28;01melse\u001b[39;00m \u001b[38;5;124m'\u001b[39m\u001b[38;5;124md->d\u001b[39m\u001b[38;5;124m'\u001b[39m\n\u001b[0;32m-> 1654\u001b[0m s \u001b[38;5;241m=\u001b[39m gufunc(a, signature\u001b[38;5;241m=\u001b[39msignature, extobj\u001b[38;5;241m=\u001b[39mextobj)\n\u001b[1;32m   1655\u001b[0m s \u001b[38;5;241m=\u001b[39m s\u001b[38;5;241m.\u001b[39mastype(_realType(result_t), copy\u001b[38;5;241m=\u001b[39m\u001b[38;5;28;01mFalse\u001b[39;00m)\n\u001b[1;32m   1656\u001b[0m \u001b[38;5;28;01mreturn\u001b[39;00m s\n",
      "File \u001b[0;32m~/anaconda3/lib/python3.11/site-packages/numpy/linalg/linalg.py:98\u001b[0m, in \u001b[0;36m_raise_linalgerror_svd_nonconvergence\u001b[0;34m(err, flag)\u001b[0m\n\u001b[1;32m     97\u001b[0m \u001b[38;5;28;01mdef\u001b[39;00m \u001b[38;5;21m_raise_linalgerror_svd_nonconvergence\u001b[39m(err, flag):\n\u001b[0;32m---> 98\u001b[0m     \u001b[38;5;28;01mraise\u001b[39;00m LinAlgError(\u001b[38;5;124m\"\u001b[39m\u001b[38;5;124mSVD did not converge\u001b[39m\u001b[38;5;124m\"\u001b[39m)\n",
      "\u001b[0;31mLinAlgError\u001b[0m: SVD did not converge"
     ]
    }
   ],
   "source": [
    "random.seed(10)\n",
    "\n",
    "n_train = 100\n",
    "n_test = 30\n",
    "Xtrain, ytrain, Xtest, ytest = f2(n_train, n_test)\n",
    "\n",
    "numiter = 10\n",
    "rmse = [0] * (numiter)\n",
    "model_expression = [0] * (numiter)\n",
    "beta_hat = [0] * (numiter)\n",
    "y1 = ytest.to_numpy()\n",
    "st = time.time()\n",
    "\n",
    "for i in range(numiter):\n",
    "    my_bsr.fit(Xtrain, ytrain)\n",
    "    model_expression[i] = my_bsr.model()\n",
    "    fitted_y, beta_hat[i] = my_bsr.predict(Xtest)\n",
    "    rmse[i] = (np.sum((y1 - fitted_y) ** 2) ** 0.50)/(len(y1) ** 0.50)\n",
    "\n",
    "runtime = time.time() - st"
   ]
  },
  {
   "cell_type": "code",
   "execution_count": 52,
   "id": "9f8ed057",
   "metadata": {},
   "outputs": [
    {
     "data": {
      "text/plain": [
       "[['(x[0])*(x[1])', '-((x[0])^2)']]"
      ]
     },
     "execution_count": 52,
     "metadata": {},
     "output_type": "execute_result"
    }
   ],
   "source": [
    "model_expression"
   ]
  },
  {
   "cell_type": "code",
   "execution_count": null,
   "id": "7b573175",
   "metadata": {},
   "outputs": [],
   "source": [
    "rmse"
   ]
  },
  {
   "cell_type": "code",
   "execution_count": null,
   "id": "049e3320",
   "metadata": {},
   "outputs": [],
   "source": [
    "runtime"
   ]
  },
  {
   "cell_type": "code",
   "execution_count": null,
   "id": "189fc9e2",
   "metadata": {},
   "outputs": [],
   "source": [
    "beta_hat"
   ]
  },
  {
   "cell_type": "code",
   "execution_count": 80,
   "id": "c05d2654",
   "metadata": {},
   "outputs": [],
   "source": [
    "# Testing BSR using f3\n",
    "from codes.bsr_class_f3 import BSR\n",
    "K = 2 # number of trees\n",
    "MM = 100 # number of iterations\n",
    "hyper_params = [{'treeNum': 2, 'itrNum':100, 'alpha1':0.4, 'alpha2':0.4, 'beta':-1.2}]\n",
    "my_bsr = BSR(K,MM)"
   ]
  },
  {
   "cell_type": "code",
   "execution_count": 81,
   "id": "c40b7fab",
   "metadata": {},
   "outputs": [],
   "source": [
    "n_train = 100\n",
    "n_test = 30\n",
    "Xtrain, ytrain, Xtest, ytest = f3(n_train, n_test)\n",
    "\n",
    "y1 = ytest.to_numpy()\n",
    "st = time.time()\n",
    "\n",
    "\n",
    "my_bsr.fit(Xtrain, ytrain)\n",
    "model_expression = my_bsr.model()\n",
    "fitted_y, beta_hat[i] = my_bsr.predict(Xtest)\n",
    "rmse = (np.sum((y1 - fitted_y) ** 2) ** 0.50)/(len(y1) ** 0.50)\n",
    "\n",
    "runtime = time.time() - st"
   ]
  },
  {
   "cell_type": "code",
   "execution_count": 82,
   "id": "cb874b24",
   "metadata": {},
   "outputs": [
    {
     "data": {
      "text/plain": [
       "['(((sin(x[0]))*(sin(cos(cos(x[1])))))*((sin(x[1]))*(sin(x[1]))))*(sin((sin(sin(((sin((cos(x[1]))*(sin((sin(x[1]))*(x[1])))))*(sin(x[1])))*(x[1]))))*(x[1])))',\n",
       " 'cos(sin((((sin(((cos(sin(sin(sin(((cos(x[0]))*(cos(sin(x[0]))))*(x[0]))))))*(x[1]))*(((cos(x[1]))*(x[1]))*(x[1]))))*(sin(x[1])))*(x[0]))*(x[0])))']"
      ]
     },
     "execution_count": 82,
     "metadata": {},
     "output_type": "execute_result"
    }
   ],
   "source": [
    "model_expression"
   ]
  },
  {
   "cell_type": "code",
   "execution_count": 83,
   "id": "266dfb9e",
   "metadata": {},
   "outputs": [
    {
     "data": {
      "text/plain": [
       "4.90364346878033"
      ]
     },
     "execution_count": 83,
     "metadata": {},
     "output_type": "execute_result"
    }
   ],
   "source": [
    "rmse"
   ]
  },
  {
   "cell_type": "code",
   "execution_count": 84,
   "id": "31c0f9bd",
   "metadata": {},
   "outputs": [
    {
     "data": {
      "text/plain": [
       "230.51564693450928"
      ]
     },
     "execution_count": 84,
     "metadata": {},
     "output_type": "execute_result"
    }
   ],
   "source": [
    "runtime"
   ]
  },
  {
   "cell_type": "code",
   "execution_count": 85,
   "id": "b9edc243",
   "metadata": {},
   "outputs": [
    {
     "data": {
      "text/plain": [
       "[array([[-1.00818291],\n",
       "        [ 2.91431789],\n",
       "        [ 1.0418825 ]])]"
      ]
     },
     "execution_count": 85,
     "metadata": {},
     "output_type": "execute_result"
    }
   ],
   "source": [
    "beta_hat"
   ]
  },
  {
   "cell_type": "code",
   "execution_count": null,
   "id": "bcc63b57",
   "metadata": {},
   "outputs": [],
   "source": []
  }
 ],
 "metadata": {
  "kernelspec": {
   "display_name": "Python 3 (ipykernel)",
   "language": "python",
   "name": "python3"
  },
  "language_info": {
   "codemirror_mode": {
    "name": "ipython",
    "version": 3
   },
   "file_extension": ".py",
   "mimetype": "text/x-python",
   "name": "python",
   "nbconvert_exporter": "python",
   "pygments_lexer": "ipython3",
   "version": "3.11.5"
  }
 },
 "nbformat": 4,
 "nbformat_minor": 5
}
