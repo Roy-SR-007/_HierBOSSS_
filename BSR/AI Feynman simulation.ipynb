{
 "cells": [
  {
   "cell_type": "markdown",
   "id": "1a7bcf45",
   "metadata": {},
   "source": [
    "# I.11.19: F = x_1*y_1 + x_2*y_2 + x_3*y_3: without noise"
   ]
  },
  {
   "cell_type": "code",
   "execution_count": 56,
   "id": "d56f874c",
   "metadata": {},
   "outputs": [],
   "source": [
    "from codes.bsr_class_I_11_19 import symreg\n",
    "from codes.bsr_class_I_11_19 import BSR\n",
    "import pandas as pd\n",
    "import numpy as np\n",
    "import random\n",
    "import time\n",
    "import pickle"
   ]
  },
  {
   "cell_type": "code",
   "execution_count": 47,
   "id": "e41a35de",
   "metadata": {},
   "outputs": [],
   "source": [
    "I_11_19_data = pd.read_csv(\"I_11_19_data.csv\")\n",
    "\n",
    "# x1: x1; x2: x2; x3: x3; x4: y1; x5: y2; x6: y3. Note that feature index starts from 0.\n",
    "## sub-sampling 1000 data points out of 10000\n",
    "X = I_11_19_data.loc[1:1000, ['x1', 'x2', 'x3', 'y1', 'y2', 'y3']]\n",
    "X = X.reset_index(drop=True)\n",
    "# y = x1*x4 + x2*x5 + x3*x6\n",
    "y = I_11_19_data.loc[1:1000, ['I.11.19_data$Y']]\n",
    "y = y.squeeze(axis=0)\n",
    "y = y.iloc[:,0]\n",
    "y = y.rename(\"x\")\n",
    "y = y.reset_index(drop=True)"
   ]
  },
  {
   "cell_type": "code",
   "execution_count": 53,
   "id": "0ae936b9",
   "metadata": {},
   "outputs": [],
   "source": [
    "K = 10\n",
    "MM = 100 # number of iterations\n",
    "hyper_params = [{'treeNum': 10, 'itrNum': 100, 'alpha1':0.4, 'alpha2':0.4, 'beta':-1.2}]\n",
    "my_bsr = BSR(K,MM)"
   ]
  },
  {
   "cell_type": "code",
   "execution_count": 54,
   "id": "c6c47f5e",
   "metadata": {},
   "outputs": [
    {
     "data": {
      "text/plain": [
       "1708.2369000911713"
      ]
     },
     "execution_count": 54,
     "metadata": {},
     "output_type": "execute_result"
    }
   ],
   "source": [
    "numiter = 10\n",
    "rmse = [0] * (numiter)\n",
    "model_expression = [0] * (numiter)\n",
    "beta_hat = [0] * (numiter)\n",
    "y1 = y.to_numpy()\n",
    "st = time.time()\n",
    "\n",
    "for i in range(numiter):\n",
    "    my_bsr.fit(X, y)\n",
    "    model_expression[i] = my_bsr.model()\n",
    "    fitted_y, beta_hat[i] = my_bsr.predict(X)\n",
    "    rmse[i] = (np.sum((y1 - fitted_y) ** 2) ** 0.50)/(len(y) ** 0.50)\n",
    "\n",
    "time.time() - st"
   ]
  },
  {
   "cell_type": "code",
   "execution_count": 57,
   "id": "209ee4a1",
   "metadata": {},
   "outputs": [],
   "source": [
    "## saving the results\n",
    "BSRresults_I_11_19_K10 = {'X': X, 'y': y, 'rmse': rmse, 'expr': model_expression, 'runtime': time.time() - st}\n",
    "with open(\"BSRresults_I_11_19_K10.pkl\", \"wb\") as f:\n",
    "    pickle.dump(BSRresults_I_11_19_K10, f)"
   ]
  },
  {
   "cell_type": "code",
   "execution_count": 59,
   "id": "ea05c1c1",
   "metadata": {},
   "outputs": [
    {
     "data": {
      "text/plain": [
       "[2408.9833925827525,\n",
       " 2432.2903986963215,\n",
       " 2432.3708963421395,\n",
       " 2374.2429631493746,\n",
       " 2428.341079783197,\n",
       " 2432.3816168117655,\n",
       " 2399.019440375749,\n",
       " 2077.3733236037,\n",
       " 2430.604571540569,\n",
       " 2432.171980221919]"
      ]
     },
     "execution_count": 59,
     "metadata": {},
     "output_type": "execute_result"
    }
   ],
   "source": [
    "rmse"
   ]
  },
  {
   "cell_type": "code",
   "execution_count": 60,
   "id": "24538561",
   "metadata": {},
   "outputs": [
    {
     "data": {
      "text/plain": [
       "[['x[0]+x[5]',\n",
       "  'x[0]+x[3]+((x[5])*(x[0]))*((x[5])*(x[3]))',\n",
       "  '(x[2]+x[1])*(x[2])',\n",
       "  '((x[5])*(x[5])+x[2]+x[3])*((x[3]+(x[2])*(x[1])+x[3])*(x[0]))',\n",
       "  'x[3]+x[3]+x[2]',\n",
       "  'x[1]+(x[1])*(x[0])',\n",
       "  'x[3]+x[3]+(x[4])*((x[5])*(x[1]))',\n",
       "  '(x[2])*(x[4])',\n",
       "  '((x[2])*(x[1]))*(x[5])',\n",
       "  'x[3]+x[3]'],\n",
       " ['x[2]+x[1]+x[1]+x[1]',\n",
       "  '((x[4])*(x[1]))*(x[5]+x[5]+x[2])',\n",
       "  'x[5]+x[5]+x[2]+(x[3]+x[1])*(x[2])',\n",
       "  '((x[5])*(x[0]))*(x[5])+x[2]',\n",
       "  '(x[5])*(x[2])+x[1]',\n",
       "  '(x[1])*((x[4])*(x[0]))+x[5]',\n",
       "  'x[3]+x[3]+(x[1])*(x[4]+x[4])',\n",
       "  '(x[0])*(x[4]+x[5]+x[3])+x[2]',\n",
       "  '((x[2]+x[0])*(x[3]))*(x[2]+x[4])+(x[4])*((x[2])*(x[5]))',\n",
       "  'x[2]+x[2]'],\n",
       " ['(x[2]+x[4]+x[4])*(x[3]+(x[2])*(x[1])+x[0])',\n",
       "  'x[4]+x[5]+x[5]+x[2]+x[0]',\n",
       "  '((x[4])*(x[1])+x[2])*(x[0])',\n",
       "  'x[0]+(x[5])*((x[1])*(x[1])+x[0])+x[0]',\n",
       "  '(x[0])*((x[0])*(x[3]))',\n",
       "  '(x[0])*((x[5])*(x[2])+x[4]+(x[0])*(x[3]))+x[4]+((x[1])*(x[2]))*((x[1])*(x[3]))',\n",
       "  '((x[3])*(x[0]))*(x[5]+x[3]+x[4]+x[5]+x[4])',\n",
       "  '(x[0])*(x[3])+x[5]+x[4]+(x[5])*(x[2])',\n",
       "  '(x[1])*(x[2]+x[2]+x[5]+x[1]+x[3]+x[4])',\n",
       "  '((x[1])*(x[0])+x[1]+x[0]+x[4])*(x[2])'],\n",
       " ['(x[1])*(x[1]+x[3])+(x[3])*(x[1]+x[3])',\n",
       "  '(x[4])*(x[3])+x[3]',\n",
       "  '((x[5]+x[3])*(x[4]))*(x[5])+x[3]+x[5]',\n",
       "  '((x[0]+x[0])*(x[0]+x[3]))*((x[0])*((x[0])*(x[1])))',\n",
       "  '(((x[1])*(x[5]))*((x[3])*(x[0])))*((x[5])*(x[0]))',\n",
       "  'x[5]+(x[0])*(x[4])',\n",
       "  'x[3]+x[2]+x[1]',\n",
       "  '(x[5])*(x[3])+x[4]+x[5]+x[3]',\n",
       "  '(x[0]+x[2])*(x[0])',\n",
       "  '(x[0])*((x[2])*(x[5]))'],\n",
       " ['(x[5])*(x[5])+x[0]',\n",
       "  '(x[1])*(x[1])',\n",
       "  'x[1]+x[3]',\n",
       "  '((x[2])*(x[2]))*(x[4])',\n",
       "  '(x[2])*(x[2]+x[1])',\n",
       "  'x[3]+(x[1])*(x[0]+x[2])',\n",
       "  'x[5]+x[5]+(x[3]+(x[4])*(x[3]))*((x[0])*(x[3]))',\n",
       "  'x[4]+(x[0])*(x[4])',\n",
       "  'x[2]+x[0]+x[4]+x[1]+x[3]',\n",
       "  '(x[5])*(x[1])'],\n",
       " ['(x[3])*(x[0])',\n",
       "  '(x[5])*(x[2])',\n",
       "  '(x[0]+x[0])*(x[3]+x[4])',\n",
       "  '(x[0])*(x[1])+x[2]+x[3]',\n",
       "  'x[2]+x[1]+(x[5])*(x[2])+x[5]',\n",
       "  'x[1]+x[1]+x[0]+(x[3])*(x[5])',\n",
       "  '(x[0])*(x[4]+x[1]+x[3])',\n",
       "  'x[4]+x[1]+x[1]',\n",
       "  'x[3]+x[4]',\n",
       "  'x[1]+x[1]+(x[1])*(x[4])+x[5]'],\n",
       " ['(x[5])*((x[0])*(x[4]))',\n",
       "  '(x[4])*(x[0])+x[5]+x[4]',\n",
       "  '(((x[5])*(x[1]))*(x[2]))*((x[5]+x[4])*(x[4]))',\n",
       "  '(x[0]+x[0])*(x[2])',\n",
       "  'x[5]+x[1]',\n",
       "  '(x[1])*(x[5]+x[5])',\n",
       "  '(((x[0])*(x[2]+x[0]+x[2]))*(x[4]))*((x[1])*(x[4]))',\n",
       "  '(x[5]+x[2])*(x[5])+x[1]',\n",
       "  '(((x[4])*(x[2]))*(x[5]+x[1]))*(x[5])',\n",
       "  '((x[3])*(x[3]))*(x[5])'],\n",
       " ['(x[3]+x[3])*((x[4]+(x[4])*((x[1])*(x[3])+x[5]))*((x[3])*(x[5])+(x[3])*((x[1])*(x[5]))))',\n",
       "  'x[3]+(x[2])*(x[1]+x[1])+x[5]',\n",
       "  '(x[5])*(x[2])',\n",
       "  'x[0]+((x[4])*(x[3]))*(x[3]+x[3])',\n",
       "  'x[5]+(x[5]+x[3])*((x[5])*(x[1])+x[0]+x[4])+(x[1])*(x[0])',\n",
       "  '((x[0])*(x[1]))*(x[0]+(x[3])*(x[0]))',\n",
       "  'x[0]+(x[5])*((x[3])*(x[4]+x[2]))',\n",
       "  '(x[5])*(x[3])',\n",
       "  'x[4]+x[3]',\n",
       "  'x[2]+x[2]'],\n",
       " ['(x[1])*(x[1])',\n",
       "  '(x[5])*((x[5])*(x[0]))',\n",
       "  '(x[5])*((x[0])*(x[5]))',\n",
       "  '(x[1]+x[4]+(x[4])*(x[2]+x[1]+x[1]))*((x[0])*(x[1]+x[5]))',\n",
       "  'x[2]+x[4]+x[3]+x[5]+x[3]+(x[1])*(x[5])+x[1]+x[0]+x[5]',\n",
       "  '(x[5]+x[1])*(x[4])+x[1]',\n",
       "  '((x[5])*(x[2]+x[5]))*(x[5]+(x[2])*(x[2]))',\n",
       "  '((x[4]+x[5])*((x[3])*(x[3])))*((((x[3])*(x[0]))*(x[5]))*(x[2]))',\n",
       "  '(x[1])*((x[5])*(x[5]))+x[1]',\n",
       "  'x[4]+(x[2]+x[3])*(x[0])'],\n",
       " ['(((x[3])*(x[2]))*(x[3]))*(x[2]+x[4])',\n",
       "  '(x[2]+x[3]+x[1])*(x[2])',\n",
       "  'x[4]+x[3]+x[0]',\n",
       "  '((x[3])*(x[0]))*(x[0])',\n",
       "  '(x[0])*(x[2])',\n",
       "  'x[4]+x[4]',\n",
       "  'x[2]+x[1]',\n",
       "  '(x[5])*(x[2])',\n",
       "  '(x[2])*((x[4])*(x[2])+x[4])',\n",
       "  'x[3]+(x[1])*(x[4])']]"
      ]
     },
     "execution_count": 60,
     "metadata": {},
     "output_type": "execute_result"
    }
   ],
   "source": [
    "model_expression"
   ]
  },
  {
   "cell_type": "markdown",
   "id": "90de6e9f",
   "metadata": {},
   "source": [
    "# I.11.19: F = x_1*y_1 + x_2*y_2 + x_3*y_3: with noise, sigma_sq = 1"
   ]
  },
  {
   "cell_type": "code",
   "execution_count": 29,
   "id": "4cdbb965",
   "metadata": {},
   "outputs": [],
   "source": [
    "from codes.bsr_class_I_11_19 import symreg\n",
    "from codes.bsr_class_I_11_19 import BSR\n",
    "import pandas as pd\n",
    "import numpy as np\n",
    "import random\n",
    "import time\n",
    "import pickle"
   ]
  },
  {
   "cell_type": "code",
   "execution_count": 30,
   "id": "ed25d2e1",
   "metadata": {},
   "outputs": [],
   "source": [
    "I_11_19_data = pd.read_csv(\"I_11_19_data.csv\")\n",
    "\n",
    "np.random.seed(10)\n",
    "\n",
    "## noise: sigma_sq = 1\n",
    "sigma = 1\n",
    "\n",
    "# x1: x1; x2: x2; x3: x3; x4: y1; x5: y2; x6: y3. Note that feature index starts from 0.\n",
    "## sub-sampling 1000 data points out of 10000\n",
    "X = I_11_19_data.loc[1:1000, ['x1', 'x2', 'x3', 'y1', 'y2', 'y3']]\n",
    "X = X.reset_index(drop=True)\n",
    "# y = x1*x4 + x2*x5 + x3*x6\n",
    "y = I_11_19_data.loc[1:1000, ['I.11.19_data$Y']]\n",
    "y = y.squeeze(axis=0)\n",
    "y = y.iloc[:,0]\n",
    "y = y.rename(\"x\")\n",
    "y = y.reset_index(drop=True) + pd.Series(np.random.normal(0, sigma, X.shape[0])) # noisy vector"
   ]
  },
  {
   "cell_type": "code",
   "execution_count": 31,
   "id": "9f26d5d5",
   "metadata": {},
   "outputs": [],
   "source": [
    "K = 10\n",
    "MM = 100 # number of iterations\n",
    "hyper_params = [{'treeNum': 10, 'itrNum': 100, 'alpha1':0.4, 'alpha2':0.4, 'beta':-1.2}]\n",
    "my_bsr = BSR(K,MM)"
   ]
  },
  {
   "cell_type": "code",
   "execution_count": 32,
   "id": "d95daec6",
   "metadata": {},
   "outputs": [
    {
     "ename": "ValueError",
     "evalue": "Data must be 1-dimensional, got ndarray of shape (1000, 1000) instead",
     "output_type": "error",
     "traceback": [
      "\u001b[0;31m---------------------------------------------------------------------------\u001b[0m",
      "\u001b[0;31mValueError\u001b[0m                                Traceback (most recent call last)",
      "Cell \u001b[0;32mIn[32], line 9\u001b[0m\n\u001b[1;32m      6\u001b[0m st \u001b[38;5;241m=\u001b[39m time\u001b[38;5;241m.\u001b[39mtime()\n\u001b[1;32m      8\u001b[0m \u001b[38;5;28;01mfor\u001b[39;00m i \u001b[38;5;129;01min\u001b[39;00m \u001b[38;5;28mrange\u001b[39m(numiter):\n\u001b[0;32m----> 9\u001b[0m     my_bsr\u001b[38;5;241m.\u001b[39mfit(X, y)\n\u001b[1;32m     10\u001b[0m     model_expression[i] \u001b[38;5;241m=\u001b[39m my_bsr\u001b[38;5;241m.\u001b[39mmodel()\n\u001b[1;32m     11\u001b[0m     fitted_y, beta_hat[i] \u001b[38;5;241m=\u001b[39m my_bsr\u001b[38;5;241m.\u001b[39mpredict(X)\n",
      "File \u001b[0;32m~/Library/CloudStorage/OneDrive-TexasA&MUniversity/BTNN-SR/MCMC-SymReg/codes/bsr_class_I_11_19.py:193\u001b[0m, in \u001b[0;36mBSR.fit\u001b[0;34m(self, train_data, train_y)\u001b[0m\n\u001b[1;32m    191\u001b[0m \u001b[38;5;66;03m# the returned Root is a new copy\u001b[39;00m\n\u001b[1;32m    192\u001b[0m \u001b[38;5;28;01mif\u001b[39;00m \u001b[38;5;28mself\u001b[39m\u001b[38;5;241m.\u001b[39mdisp: \u001b[38;5;28mprint\u001b[39m(\u001b[38;5;124m'\u001b[39m\u001b[38;5;124mnewProp...\u001b[39m\u001b[38;5;124m'\u001b[39m)\n\u001b[0;32m--> 193\u001b[0m [res, sigma, Root, sigma_a, sigma_b] \u001b[38;5;241m=\u001b[39m newProp(Roots, count, sigma, train_y, train_data, n_feature, Ops,\n\u001b[1;32m    194\u001b[0m                                                Op_weights, Op_type, beta, sigma_a, sigma_b)\n\u001b[1;32m    195\u001b[0m \u001b[38;5;28;01mif\u001b[39;00m \u001b[38;5;28mself\u001b[39m\u001b[38;5;241m.\u001b[39mdisp:\n\u001b[1;32m    196\u001b[0m     \u001b[38;5;28mprint\u001b[39m(\u001b[38;5;124m\"\u001b[39m\u001b[38;5;124mres:\u001b[39m\u001b[38;5;124m\"\u001b[39m,res)\n",
      "File \u001b[0;32m~/anaconda3/lib/python3.11/site-packages/bsr-0.1.1-py3.11.egg/bsr/funcs.py:1280\u001b[0m, in \u001b[0;36mnewProp\u001b[0;34m(Roots, count, sigma, y, indata, n_feature, Ops, Op_weights, Op_type, beta, sigma_a, sigma_b)\u001b[0m\n\u001b[1;32m   1276\u001b[0m     logR \u001b[38;5;241m=\u001b[39m logR \u001b[38;5;241m+\u001b[39m np\u001b[38;5;241m.\u001b[39mlog(invgamma\u001b[38;5;241m.\u001b[39mpdf(new_sigma, sig)) \u001b[38;5;241m-\u001b[39m np\u001b[38;5;241m.\u001b[39mlog(invgamma\u001b[38;5;241m.\u001b[39mpdf(sigma, sig))\n\u001b[1;32m   1278\u001b[0m \u001b[38;5;28;01melse\u001b[39;00m:  \u001b[38;5;66;03m# no dimension jump\u001b[39;00m\n\u001b[1;32m   1279\u001b[0m     \u001b[38;5;66;03m# contribution of f(y|S,Theta,x)\u001b[39;00m\n\u001b[0;32m-> 1280\u001b[0m     yllstar \u001b[38;5;241m=\u001b[39m ylogLike(y, new_outputs, new_sigma)\n\u001b[1;32m   1281\u001b[0m     yll \u001b[38;5;241m=\u001b[39m ylogLike(y, old_outputs, sigma)\n\u001b[1;32m   1283\u001b[0m     log_yratio \u001b[38;5;241m=\u001b[39m yllstar \u001b[38;5;241m-\u001b[39m yll\n",
      "File \u001b[0;32m~/anaconda3/lib/python3.11/site-packages/bsr-0.1.1-py3.11.egg/bsr/funcs.py:1162\u001b[0m, in \u001b[0;36mylogLike\u001b[0;34m(y, outputs, sigma)\u001b[0m\n\u001b[1;32m   1157\u001b[0m output \u001b[38;5;241m=\u001b[39m np\u001b[38;5;241m.\u001b[39mmatmul(XX, Beta)\n\u001b[1;32m   1159\u001b[0m \u001b[38;5;66;03m# error = 0\u001b[39;00m\n\u001b[1;32m   1160\u001b[0m \u001b[38;5;66;03m# for i in np.arange(0, len(y)):\u001b[39;00m\n\u001b[1;32m   1161\u001b[0m \u001b[38;5;66;03m#     error += (y[i] - output[i, 0]) * (y[i] - output[i, 0])\u001b[39;00m\n\u001b[0;32m-> 1162\u001b[0m error \u001b[38;5;241m=\u001b[39m np\u001b[38;5;241m.\u001b[39msum(np\u001b[38;5;241m.\u001b[39msquare(y\u001b[38;5;241m-\u001b[39moutput[:,\u001b[38;5;241m0\u001b[39m]))\n\u001b[1;32m   1163\u001b[0m \u001b[38;5;66;03m#error = np.sqrt(error / len(y))\u001b[39;00m\n\u001b[1;32m   1164\u001b[0m \u001b[38;5;66;03m# print(\"mean error:\",error)\u001b[39;00m\n\u001b[1;32m   1165\u001b[0m \n\u001b[0;32m   (...)\u001b[0m\n\u001b[1;32m   1169\u001b[0m \u001b[38;5;66;03m#     # print(i,temp)\u001b[39;00m\n\u001b[1;32m   1170\u001b[0m \u001b[38;5;66;03m#     log_sum += temp\u001b[39;00m\n\u001b[1;32m   1171\u001b[0m log_sum \u001b[38;5;241m=\u001b[39m error\n",
      "File \u001b[0;32m~/anaconda3/lib/python3.11/site-packages/pandas/core/ops/common.py:76\u001b[0m, in \u001b[0;36m_unpack_zerodim_and_defer.<locals>.new_method\u001b[0;34m(self, other)\u001b[0m\n\u001b[1;32m     72\u001b[0m             \u001b[38;5;28;01mreturn\u001b[39;00m \u001b[38;5;28mNotImplemented\u001b[39m\n\u001b[1;32m     74\u001b[0m other \u001b[38;5;241m=\u001b[39m item_from_zerodim(other)\n\u001b[0;32m---> 76\u001b[0m \u001b[38;5;28;01mreturn\u001b[39;00m method(\u001b[38;5;28mself\u001b[39m, other)\n",
      "File \u001b[0;32m~/anaconda3/lib/python3.11/site-packages/pandas/core/arraylike.py:194\u001b[0m, in \u001b[0;36mOpsMixin.__sub__\u001b[0;34m(self, other)\u001b[0m\n\u001b[1;32m    192\u001b[0m \u001b[38;5;129m@unpack_zerodim_and_defer\u001b[39m(\u001b[38;5;124m\"\u001b[39m\u001b[38;5;124m__sub__\u001b[39m\u001b[38;5;124m\"\u001b[39m)\n\u001b[1;32m    193\u001b[0m \u001b[38;5;28;01mdef\u001b[39;00m \u001b[38;5;21m__sub__\u001b[39m(\u001b[38;5;28mself\u001b[39m, other):\n\u001b[0;32m--> 194\u001b[0m     \u001b[38;5;28;01mreturn\u001b[39;00m \u001b[38;5;28mself\u001b[39m\u001b[38;5;241m.\u001b[39m_arith_method(other, operator\u001b[38;5;241m.\u001b[39msub)\n",
      "File \u001b[0;32m~/anaconda3/lib/python3.11/site-packages/pandas/core/series.py:6135\u001b[0m, in \u001b[0;36mSeries._arith_method\u001b[0;34m(self, other, op)\u001b[0m\n\u001b[1;32m   6133\u001b[0m \u001b[38;5;28;01mdef\u001b[39;00m \u001b[38;5;21m_arith_method\u001b[39m(\u001b[38;5;28mself\u001b[39m, other, op):\n\u001b[1;32m   6134\u001b[0m     \u001b[38;5;28mself\u001b[39m, other \u001b[38;5;241m=\u001b[39m \u001b[38;5;28mself\u001b[39m\u001b[38;5;241m.\u001b[39m_align_for_op(other)\n\u001b[0;32m-> 6135\u001b[0m     \u001b[38;5;28;01mreturn\u001b[39;00m base\u001b[38;5;241m.\u001b[39mIndexOpsMixin\u001b[38;5;241m.\u001b[39m_arith_method(\u001b[38;5;28mself\u001b[39m, other, op)\n",
      "File \u001b[0;32m~/anaconda3/lib/python3.11/site-packages/pandas/core/base.py:1384\u001b[0m, in \u001b[0;36mIndexOpsMixin._arith_method\u001b[0;34m(self, other, op)\u001b[0m\n\u001b[1;32m   1381\u001b[0m \u001b[38;5;28;01mwith\u001b[39;00m np\u001b[38;5;241m.\u001b[39merrstate(\u001b[38;5;28mall\u001b[39m\u001b[38;5;241m=\u001b[39m\u001b[38;5;124m\"\u001b[39m\u001b[38;5;124mignore\u001b[39m\u001b[38;5;124m\"\u001b[39m):\n\u001b[1;32m   1382\u001b[0m     result \u001b[38;5;241m=\u001b[39m ops\u001b[38;5;241m.\u001b[39marithmetic_op(lvalues, rvalues, op)\n\u001b[0;32m-> 1384\u001b[0m \u001b[38;5;28;01mreturn\u001b[39;00m \u001b[38;5;28mself\u001b[39m\u001b[38;5;241m.\u001b[39m_construct_result(result, name\u001b[38;5;241m=\u001b[39mres_name)\n",
      "File \u001b[0;32m~/anaconda3/lib/python3.11/site-packages/pandas/core/series.py:6231\u001b[0m, in \u001b[0;36mSeries._construct_result\u001b[0;34m(self, result, name)\u001b[0m\n\u001b[1;32m   6228\u001b[0m \u001b[38;5;66;03m# TODO: result should always be ArrayLike, but this fails for some\u001b[39;00m\n\u001b[1;32m   6229\u001b[0m \u001b[38;5;66;03m#  JSONArray tests\u001b[39;00m\n\u001b[1;32m   6230\u001b[0m dtype \u001b[38;5;241m=\u001b[39m \u001b[38;5;28mgetattr\u001b[39m(result, \u001b[38;5;124m\"\u001b[39m\u001b[38;5;124mdtype\u001b[39m\u001b[38;5;124m\"\u001b[39m, \u001b[38;5;28;01mNone\u001b[39;00m)\n\u001b[0;32m-> 6231\u001b[0m out \u001b[38;5;241m=\u001b[39m \u001b[38;5;28mself\u001b[39m\u001b[38;5;241m.\u001b[39m_constructor(result, index\u001b[38;5;241m=\u001b[39m\u001b[38;5;28mself\u001b[39m\u001b[38;5;241m.\u001b[39mindex, dtype\u001b[38;5;241m=\u001b[39mdtype, copy\u001b[38;5;241m=\u001b[39m\u001b[38;5;28;01mFalse\u001b[39;00m)\n\u001b[1;32m   6232\u001b[0m out \u001b[38;5;241m=\u001b[39m out\u001b[38;5;241m.\u001b[39m__finalize__(\u001b[38;5;28mself\u001b[39m)\n\u001b[1;32m   6234\u001b[0m \u001b[38;5;66;03m# Set the result's name after __finalize__ is called because __finalize__\u001b[39;00m\n\u001b[1;32m   6235\u001b[0m \u001b[38;5;66;03m#  would set it back to self.name\u001b[39;00m\n",
      "File \u001b[0;32m~/anaconda3/lib/python3.11/site-packages/pandas/core/series.py:584\u001b[0m, in \u001b[0;36mSeries.__init__\u001b[0;34m(self, data, index, dtype, name, copy, fastpath)\u001b[0m\n\u001b[1;32m    582\u001b[0m         data \u001b[38;5;241m=\u001b[39m data\u001b[38;5;241m.\u001b[39mcopy()\n\u001b[1;32m    583\u001b[0m \u001b[38;5;28;01melse\u001b[39;00m:\n\u001b[0;32m--> 584\u001b[0m     data \u001b[38;5;241m=\u001b[39m sanitize_array(data, index, dtype, copy)\n\u001b[1;32m    586\u001b[0m     manager \u001b[38;5;241m=\u001b[39m _get_option(\u001b[38;5;124m\"\u001b[39m\u001b[38;5;124mmode.data_manager\u001b[39m\u001b[38;5;124m\"\u001b[39m, silent\u001b[38;5;241m=\u001b[39m\u001b[38;5;28;01mTrue\u001b[39;00m)\n\u001b[1;32m    587\u001b[0m     \u001b[38;5;28;01mif\u001b[39;00m manager \u001b[38;5;241m==\u001b[39m \u001b[38;5;124m\"\u001b[39m\u001b[38;5;124mblock\u001b[39m\u001b[38;5;124m\"\u001b[39m:\n",
      "File \u001b[0;32m~/anaconda3/lib/python3.11/site-packages/pandas/core/construction.py:659\u001b[0m, in \u001b[0;36msanitize_array\u001b[0;34m(data, index, dtype, copy, allow_2d)\u001b[0m\n\u001b[1;32m    656\u001b[0m             subarr \u001b[38;5;241m=\u001b[39m cast(np\u001b[38;5;241m.\u001b[39mndarray, subarr)\n\u001b[1;32m    657\u001b[0m             subarr \u001b[38;5;241m=\u001b[39m maybe_infer_to_datetimelike(subarr)\n\u001b[0;32m--> 659\u001b[0m subarr \u001b[38;5;241m=\u001b[39m _sanitize_ndim(subarr, data, dtype, index, allow_2d\u001b[38;5;241m=\u001b[39mallow_2d)\n\u001b[1;32m    661\u001b[0m \u001b[38;5;28;01mif\u001b[39;00m \u001b[38;5;28misinstance\u001b[39m(subarr, np\u001b[38;5;241m.\u001b[39mndarray):\n\u001b[1;32m    662\u001b[0m     \u001b[38;5;66;03m# at this point we should have dtype be None or subarr.dtype == dtype\u001b[39;00m\n\u001b[1;32m    663\u001b[0m     dtype \u001b[38;5;241m=\u001b[39m cast(np\u001b[38;5;241m.\u001b[39mdtype, dtype)\n",
      "File \u001b[0;32m~/anaconda3/lib/python3.11/site-packages/pandas/core/construction.py:718\u001b[0m, in \u001b[0;36m_sanitize_ndim\u001b[0;34m(result, data, dtype, index, allow_2d)\u001b[0m\n\u001b[1;32m    716\u001b[0m     \u001b[38;5;28;01mif\u001b[39;00m allow_2d:\n\u001b[1;32m    717\u001b[0m         \u001b[38;5;28;01mreturn\u001b[39;00m result\n\u001b[0;32m--> 718\u001b[0m     \u001b[38;5;28;01mraise\u001b[39;00m \u001b[38;5;167;01mValueError\u001b[39;00m(\n\u001b[1;32m    719\u001b[0m         \u001b[38;5;124mf\u001b[39m\u001b[38;5;124m\"\u001b[39m\u001b[38;5;124mData must be 1-dimensional, got ndarray of shape \u001b[39m\u001b[38;5;132;01m{\u001b[39;00mdata\u001b[38;5;241m.\u001b[39mshape\u001b[38;5;132;01m}\u001b[39;00m\u001b[38;5;124m instead\u001b[39m\u001b[38;5;124m\"\u001b[39m\n\u001b[1;32m    720\u001b[0m     )\n\u001b[1;32m    721\u001b[0m \u001b[38;5;28;01mif\u001b[39;00m is_object_dtype(dtype) \u001b[38;5;129;01mand\u001b[39;00m \u001b[38;5;28misinstance\u001b[39m(dtype, ExtensionDtype):\n\u001b[1;32m    722\u001b[0m     \u001b[38;5;66;03m# i.e. NumpyEADtype(\"O\")\u001b[39;00m\n\u001b[1;32m    724\u001b[0m     result \u001b[38;5;241m=\u001b[39m com\u001b[38;5;241m.\u001b[39masarray_tuplesafe(data, dtype\u001b[38;5;241m=\u001b[39mnp\u001b[38;5;241m.\u001b[39mdtype(\u001b[38;5;124m\"\u001b[39m\u001b[38;5;124mobject\u001b[39m\u001b[38;5;124m\"\u001b[39m))\n",
      "\u001b[0;31mValueError\u001b[0m: Data must be 1-dimensional, got ndarray of shape (1000, 1000) instead"
     ]
    }
   ],
   "source": [
    "numiter = 10\n",
    "rmse = [0] * (numiter)\n",
    "model_expression = [0] * (numiter)\n",
    "beta_hat = [0] * (numiter)\n",
    "y1 = y.to_numpy()\n",
    "st = time.time()\n",
    "\n",
    "for i in range(numiter):\n",
    "    my_bsr.fit(X, y)\n",
    "    model_expression[i] = my_bsr.model()\n",
    "    fitted_y, beta_hat[i] = my_bsr.predict(X)\n",
    "    rmse[i] = (np.sum((y1 - fitted_y) ** 2) ** 0.50)/(len(y) ** 0.50)\n",
    "\n",
    "time.time() - st"
   ]
  },
  {
   "cell_type": "code",
   "execution_count": 91,
   "id": "a5965ecf",
   "metadata": {},
   "outputs": [],
   "source": [
    "## saving the results\n",
    "BSRresults_I_11_19_K10_sigma_sq_1 = {'X': X, 'y': y, 'rmse': rmse, 'expr': model_expression, 'runtime': time.time() - st, 'sigma_sq': sigma}\n",
    "with open(\"BSRresults_I_11_19_K10_sigma_sq_1.pkl\", \"wb\") as f:\n",
    "    pickle.dump(BSRresults_I_11_19_K10, f)"
   ]
  },
  {
   "cell_type": "code",
   "execution_count": 89,
   "id": "8c3df38b",
   "metadata": {},
   "outputs": [
    {
     "data": {
      "text/plain": [
       "[2430.788535887575,\n",
       " 2428.648928653748,\n",
       " 2430.369879645858,\n",
       " 2416.559310815,\n",
       " 2421.3837058639106,\n",
       " 2372.250053368044,\n",
       " 2430.7524819834507,\n",
       " 2175.8530402409638,\n",
       " 2407.648093568365,\n",
       " 2430.725740987222]"
      ]
     },
     "execution_count": 89,
     "metadata": {},
     "output_type": "execute_result"
    }
   ],
   "source": [
    "rmse"
   ]
  },
  {
   "cell_type": "code",
   "execution_count": 90,
   "id": "5a1f4232",
   "metadata": {},
   "outputs": [
    {
     "data": {
      "text/plain": [
       "[['(x[4])*(x[1])',\n",
       "  '(x[2])*(x[3]+x[5])',\n",
       "  '(x[0])*(x[5])+x[0]+x[4]',\n",
       "  '(x[1])*(x[3])',\n",
       "  '(x[2])*((x[2])*(x[0]+x[2]))',\n",
       "  '(x[3])*(x[5]+x[2]+x[3]+x[0])',\n",
       "  '(x[5]+(x[3])*(x[5])+x[4])*(x[4])',\n",
       "  '((x[0])*(x[3]+x[2]))*(x[0]+x[5])',\n",
       "  'x[5]+(x[2])*(x[5])',\n",
       "  'x[2]+x[3]'],\n",
       " ['(x[4])*(((x[2])*(x[1]+x[4]+x[5]+x[4]))*(x[3]))',\n",
       "  '(x[5])*(x[2])+x[0]',\n",
       "  '(x[5])*((x[1])*(x[4]+x[0]))',\n",
       "  '((x[1])*(x[3]))*((x[3])*(x[0])+(x[0])*(x[0])+x[4])',\n",
       "  '(x[0])*((x[4])*(x[5]+x[2]))+x[4]+x[1]',\n",
       "  'x[3]+(x[0]+x[0])*(x[4])',\n",
       "  '(x[5])*((x[2])*(x[5])+x[2])',\n",
       "  '(x[1])*(x[1]+(x[1])*(x[4])+x[0])',\n",
       "  '(x[4])*(x[5]+x[5])+x[4]',\n",
       "  '(x[0])*(x[2]+x[2]+x[5])'],\n",
       " ['(x[5])*(x[2]+x[2]+x[2])',\n",
       "  '(x[3])*(x[1])',\n",
       "  'x[3]+x[0]',\n",
       "  '(((x[5])*(x[4]))*(x[0]))*(x[2])',\n",
       "  '(x[0])*(x[2]+x[3]+x[3])+((x[0])*(x[1]))*(x[3])+(x[1])*(x[1])',\n",
       "  '(x[3])*(x[4])+x[1]',\n",
       "  '((x[2])*(x[3]))*(x[2]+(x[4])*(x[0]))',\n",
       "  'x[5]+x[2]+x[0]+x[0]+(x[2])*(x[3])+x[4]+(x[2])*((x[1])*(x[1]))',\n",
       "  'x[4]+x[3]+x[0]+x[0]',\n",
       "  '(x[0])*(x[5])'],\n",
       " ['(x[4]+x[3])*(x[5]+x[5]+x[2])',\n",
       "  '(x[3]+x[5]+x[2])*((x[3])*(x[0]))',\n",
       "  '(x[3])*((x[2])*((x[3])*(x[0])))',\n",
       "  '(x[0])*((x[4])*(x[0]))',\n",
       "  'x[4]+x[2]',\n",
       "  '((x[1])*((x[0]+x[1])*(x[1])))*(x[3])',\n",
       "  '(x[5])*((x[0])*(x[1]))',\n",
       "  '(x[1])*(x[0])+x[1]+x[5]',\n",
       "  '((x[0])*(x[2]+x[0]+(x[4])*(x[0])))*(x[1])',\n",
       "  '((x[2])*((x[2])*(x[2]+x[3])))*(x[3])'],\n",
       " ['x[2]+x[2]+x[4]',\n",
       "  'x[4]+x[4]',\n",
       "  '((x[3])*(x[5]))*(x[0])',\n",
       "  '(x[3])*(x[5])',\n",
       "  '(x[0])*(((x[3]+x[2])*(x[5]))*(x[2])+x[3])',\n",
       "  '((x[4])*((x[3])*(x[3])))*(x[5])',\n",
       "  '(x[2])*(x[0]+(x[1])*(x[4]))',\n",
       "  'x[3]+x[3]',\n",
       "  '(x[1])*(x[4]+x[3])+x[1]+x[0]',\n",
       "  '((x[2])*(x[0]))*(x[3])+x[1]'],\n",
       " ['x[0]+x[3]',\n",
       "  '(x[1])*(x[4])',\n",
       "  'x[1]+x[2]+x[4]',\n",
       "  '(x[2])*(x[5])+x[5]+(x[0]+(x[0])*(x[4]+x[5])+x[1]+x[3])*(x[3])',\n",
       "  '(x[1])*((x[0])*(x[1]))',\n",
       "  '(x[1])*((x[5]+x[4]+x[2])*(x[3]))',\n",
       "  'x[0]+x[3]',\n",
       "  'x[4]+x[2]+x[4]',\n",
       "  '(x[1]+x[4]+x[2]+x[4]+x[1]+x[5])*((x[4])*(x[3])+(x[4])*(x[2]))',\n",
       "  '(x[3]+x[2]+x[1]+(x[3])*(x[5]))*((x[4]+x[5])*(x[2]))'],\n",
       " ['(((x[3])*(x[0]))*(x[1]))*(x[3])',\n",
       "  '(x[1]+x[2])*(x[1]+x[0])',\n",
       "  '(x[0])*(x[5])',\n",
       "  'x[2]+(x[5]+x[1])*(x[3])+x[1]',\n",
       "  'x[4]+x[3]',\n",
       "  '((x[2])*(x[3]))*(x[0])',\n",
       "  '(x[4])*((x[4])*(x[4])+x[1]+x[4]+x[4])',\n",
       "  '(x[5])*(x[2])',\n",
       "  '((x[1]+x[3])*((x[0])*(x[3])))*(x[5])',\n",
       "  '(x[5]+x[1])*(x[1])'],\n",
       " ['(x[3])*(x[4])',\n",
       "  'x[2]+x[3]+(x[1])*(x[0])',\n",
       "  '(((x[1]+x[4]+(x[5])*(x[5]))*(x[3])+x[2])*(x[4]+x[5]))*((x[2])*(x[4]))',\n",
       "  'x[2]+x[1]',\n",
       "  'x[2]+(x[4]+x[1])*(x[3])',\n",
       "  '((x[2]+x[5])*(x[5]))*(x[0]+x[0])',\n",
       "  '(((x[0])*(x[3]))*(x[1])+x[2]+x[5])*(x[3])',\n",
       "  '(x[5]+x[0])*(x[1])',\n",
       "  'x[1]+(x[3])*(x[3])',\n",
       "  '((x[4])*(x[0]))*(x[4])'],\n",
       " ['(x[5])*((x[1])*((x[5])*((x[1])*(x[1]))+(x[0])*(x[1])))',\n",
       "  'x[2]+x[2]+(x[3])*(x[1]+(x[1])*(x[4]))',\n",
       "  'x[5]+x[5]+x[1]',\n",
       "  '((x[2]+x[2])*(x[2]))*(x[5]+(x[3])*(x[5]+x[4]+x[1])+x[4])',\n",
       "  '(x[5]+x[1])*(x[4])',\n",
       "  '(x[0]+((x[3])*(x[0]))*(x[5]))*(x[5]+x[1])',\n",
       "  '((x[5])*(x[3])+x[5])*(x[4])',\n",
       "  '(x[3])*(x[4])',\n",
       "  '((x[2]+x[2])*(x[3]))*(x[5])',\n",
       "  'x[3]+x[3]+x[3]+(x[1])*(x[2])+x[3]'],\n",
       " ['x[1]+x[3]+x[4]',\n",
       "  '(x[5]+x[1])*(x[2])',\n",
       "  '(x[1])*(x[2])+x[3]',\n",
       "  'x[5]+x[1]+(x[4])*(x[4]+x[0])',\n",
       "  'x[3]+x[1]',\n",
       "  'x[3]+x[2]+x[1]',\n",
       "  '(x[2]+x[1]+x[4])*((x[3])*(x[2]))',\n",
       "  '(x[1])*(x[1]+x[2]+x[2])+x[2]',\n",
       "  '(x[4])*(x[5])',\n",
       "  '(x[2])*((x[4])*(x[3]))+x[2]']]"
      ]
     },
     "execution_count": 90,
     "metadata": {},
     "output_type": "execute_result"
    }
   ],
   "source": [
    "model_expression"
   ]
  },
  {
   "cell_type": "markdown",
   "id": "6bd07c59",
   "metadata": {},
   "source": [
    "# I.12.2: F = q1q2/4*epsilon*(r**2): without noise"
   ]
  },
  {
   "cell_type": "code",
   "execution_count": 39,
   "id": "1f0c2e03",
   "metadata": {},
   "outputs": [],
   "source": [
    "from codes.bsr_class_I_12_2 import symreg\n",
    "from codes.bsr_class_I_12_2 import BSR\n",
    "import pandas as pd\n",
    "import numpy as np\n",
    "import random\n",
    "import time\n",
    "import pickle"
   ]
  },
  {
   "cell_type": "code",
   "execution_count": 61,
   "id": "9200de00",
   "metadata": {},
   "outputs": [],
   "source": [
    "I_12_2_data = pd.read_csv(\"I_12_2_data.csv\")\n",
    "\n",
    "# x1: q1**2 / epsilon*(r**2); x2: q2/q1. Note that feature index starts from 0.\n",
    "## sub-sampling 1000 data points out of 10000\n",
    "X = I_12_2_data.loc[0:999, ['x1', 'x2']]\n",
    "X = X.reset_index(drop=True)\n",
    "# y:4piF = x1*x2\n",
    "y = I_12_2_data.loc[0:999, ['I.12.2_data$Y']]\n",
    "y = y.squeeze(axis=0)\n",
    "y = y.iloc[:,0]\n",
    "y = y.rename(\"x\")\n",
    "y = y.reset_index(drop=True)"
   ]
  },
  {
   "cell_type": "code",
   "execution_count": 62,
   "id": "9551a3f0",
   "metadata": {},
   "outputs": [],
   "source": [
    "K = 2\n",
    "MM = 100 # number of iterations\n",
    "hyper_params = [{'treeNum': 2, 'itrNum': 100, 'alpha1':0.4, 'alpha2':0.4, 'beta':-1.2}]\n",
    "my_bsr = BSR(K,MM)"
   ]
  },
  {
   "cell_type": "code",
   "execution_count": 63,
   "id": "9f82f45c",
   "metadata": {},
   "outputs": [
    {
     "name": "stdout",
     "output_type": "stream",
     "text": [
      "0\n",
      "1\n",
      "2\n",
      "3\n",
      "4\n",
      "5\n",
      "6\n",
      "7\n",
      "8\n",
      "9\n"
     ]
    },
    {
     "data": {
      "text/plain": [
       "253.02364802360535"
      ]
     },
     "execution_count": 63,
     "metadata": {},
     "output_type": "execute_result"
    }
   ],
   "source": [
    "numiter = 10\n",
    "rmse = [0] * (numiter)\n",
    "model_expression = [0] * (numiter)\n",
    "beta_hat = [0] * (numiter)\n",
    "y1 = y.to_numpy()\n",
    "st = time.time()\n",
    "\n",
    "for i in range(numiter):\n",
    "    my_bsr.fit(X, y)\n",
    "    model_expression[i] = my_bsr.model()\n",
    "    fitted_y, beta_hat[i] = my_bsr.predict(X)\n",
    "    fitted_y = fitted_y.flatten()\n",
    "    rmse[i] = (np.sum((y1 - fitted_y) ** 2) ** 0.50)/(len(y) ** 0.50)\n",
    "    print(i)\n",
    "\n",
    "time.time() - st"
   ]
  },
  {
   "cell_type": "code",
   "execution_count": 101,
   "id": "e193b4ae",
   "metadata": {},
   "outputs": [],
   "source": [
    "## saving the results\n",
    "BSRresults_I_12_2_K2 = {'X': X, 'y': y, 'rmse': rmse, 'expr': model_expression, 'runtime': time.time() - st}\n",
    "with open(\"BSRresults_I_12_2_K2.pkl\", \"wb\") as f:\n",
    "    pickle.dump(BSRresults_I_12_2_K2, f)"
   ]
  },
  {
   "cell_type": "code",
   "execution_count": 64,
   "id": "a832103d",
   "metadata": {},
   "outputs": [
    {
     "data": {
      "text/plain": [
       "(3.881480762181475e-08, 7)"
      ]
     },
     "execution_count": 64,
     "metadata": {},
     "output_type": "execute_result"
    }
   ],
   "source": [
    "min(rmse), rmse.index(min(rmse))"
   ]
  },
  {
   "cell_type": "code",
   "execution_count": 69,
   "id": "87cbc466",
   "metadata": {},
   "outputs": [
    {
     "data": {
      "text/plain": [
       "['(x[0]+(x[1])*(x[0]))*(x[0])', '((x[1])*(x[1]))*((x[1])*(x[1]))']"
      ]
     },
     "execution_count": 69,
     "metadata": {},
     "output_type": "execute_result"
    }
   ],
   "source": [
    "model_expression[2]"
   ]
  },
  {
   "cell_type": "code",
   "execution_count": 65,
   "id": "622aa4d0",
   "metadata": {},
   "outputs": [
    {
     "data": {
      "text/plain": [
       "[9.69754210414491e-07,\n",
       " 8.718762824737028e-07,\n",
       " 0.008447889873516735,\n",
       " 1.4280687679720506e-06,\n",
       " 0.013057520186726655,\n",
       " 0.021969171069083946,\n",
       " 4.844790947928192e-08,\n",
       " 3.881480762181475e-08,\n",
       " 0.0009548390669158683,\n",
       " 0.004519470287154278]"
      ]
     },
     "execution_count": 65,
     "metadata": {},
     "output_type": "execute_result"
    }
   ],
   "source": [
    "rmse"
   ]
  },
  {
   "cell_type": "code",
   "execution_count": 68,
   "id": "7346b406",
   "metadata": {},
   "outputs": [
    {
     "data": {
      "text/plain": [
       "array([[ 0.01029741],\n",
       "       [ 0.06466928],\n",
       "       [-5.86262582]])"
      ]
     },
     "execution_count": 68,
     "metadata": {},
     "output_type": "execute_result"
    }
   ],
   "source": [
    "beta_hat[2]"
   ]
  },
  {
   "cell_type": "markdown",
   "id": "8e1a5581",
   "metadata": {},
   "source": [
    "# I.12.2: F = q1q2/4*epsilon*(r**2): with noise, sigma_sq = 4 "
   ]
  },
  {
   "cell_type": "code",
   "execution_count": 70,
   "id": "e8dc9a64",
   "metadata": {},
   "outputs": [],
   "source": [
    "from codes.bsr_class_I_12_2 import symreg\n",
    "from codes.bsr_class_I_12_2 import BSR\n",
    "import pandas as pd\n",
    "import numpy as np\n",
    "import random\n",
    "import time\n",
    "import pickle"
   ]
  },
  {
   "cell_type": "code",
   "execution_count": 71,
   "id": "04b07b8c",
   "metadata": {},
   "outputs": [],
   "source": [
    "I_12_2_data = pd.read_csv(\"I_12_2_data.csv\")\n",
    "\n",
    "np.random.seed(10)\n",
    "\n",
    "## noise: sigma_sq = 4\n",
    "sigma = 4 ** 0.5\n",
    "\n",
    "# x1: q1**2 / epsilon*(r**2); x2: q2/q1. Note that feature index starts from 0.\n",
    "## sub-sampling 1000 data points out of 10000\n",
    "X = I_12_2_data.loc[0:999, ['x1', 'x2']]\n",
    "X = X.reset_index(drop=True)\n",
    "# y:4piF = x1*x2\n",
    "y = I_12_2_data.loc[0:999, ['I.12.2_data$Y']]\n",
    "y = y.squeeze(axis=0)\n",
    "y = y.iloc[:,0]\n",
    "y = y.rename(\"x\")\n",
    "y = y.reset_index(drop=True) + pd.Series(np.random.normal(0, sigma, X.shape[0])) # noisy vector"
   ]
  },
  {
   "cell_type": "code",
   "execution_count": 72,
   "id": "656eb656",
   "metadata": {},
   "outputs": [],
   "source": [
    "K = 2\n",
    "MM = 100 # number of iterations\n",
    "hyper_params = [{'treeNum': 2, 'itrNum': 100, 'alpha1':0.4, 'alpha2':0.4, 'beta':-1.2}]\n",
    "my_bsr = BSR(K,MM)"
   ]
  },
  {
   "cell_type": "code",
   "execution_count": 73,
   "id": "2bc518df",
   "metadata": {},
   "outputs": [
    {
     "name": "stdout",
     "output_type": "stream",
     "text": [
      "0\n",
      "1\n",
      "2\n",
      "3\n",
      "4\n",
      "5\n",
      "6\n",
      "7\n",
      "8\n",
      "9\n"
     ]
    },
    {
     "data": {
      "text/plain": [
       "201.05101013183594"
      ]
     },
     "execution_count": 73,
     "metadata": {},
     "output_type": "execute_result"
    }
   ],
   "source": [
    "numiter = 10\n",
    "rmse = [0] * (numiter)\n",
    "model_expression = [0] * (numiter)\n",
    "beta_hat = [0] * (numiter)\n",
    "y1 = y.to_numpy()\n",
    "st = time.time()\n",
    "\n",
    "for i in range(numiter):\n",
    "    my_bsr.fit(X, y)\n",
    "    model_expression[i] = my_bsr.model()\n",
    "    fitted_y, beta_hat[i] = my_bsr.predict(X)\n",
    "    fitted_y = fitted_y.flatten()\n",
    "    rmse[i] = (np.sum((y1 - fitted_y) ** 2) ** 0.50)/(len(y) ** 0.50)\n",
    "    print(i)\n",
    "\n",
    "time.time() - st"
   ]
  },
  {
   "cell_type": "code",
   "execution_count": null,
   "id": "817100e2",
   "metadata": {},
   "outputs": [],
   "source": [
    "## saving the results\n",
    "BSRresults_I_12_2_K2_sigma_sq_4 = {'X': X, 'y': y, 'rmse': rmse, 'expr': model_expression, 'runtime': time.time() - st}\n",
    "with open(\"BSRresults_I_12_2_K2_sigma_sq_4.pkl\", \"wb\") as f:\n",
    "    pickle.dump(BSRresults_I_12_2_K2_sigma_sq_4, f)"
   ]
  },
  {
   "cell_type": "code",
   "execution_count": 74,
   "id": "4d039264",
   "metadata": {},
   "outputs": [
    {
     "data": {
      "text/plain": [
       "(1.8668801055455013, 5)"
      ]
     },
     "execution_count": 74,
     "metadata": {},
     "output_type": "execute_result"
    }
   ],
   "source": [
    "min(rmse), rmse.index(min(rmse))"
   ]
  },
  {
   "cell_type": "code",
   "execution_count": 75,
   "id": "7ca48a34",
   "metadata": {},
   "outputs": [
    {
     "data": {
      "text/plain": [
       "['x[1]+x[0]', '(x[0])*((x[1])*(x[0]))']"
      ]
     },
     "execution_count": 75,
     "metadata": {},
     "output_type": "execute_result"
    }
   ],
   "source": [
    "model_expression[5]"
   ]
  },
  {
   "cell_type": "code",
   "execution_count": 77,
   "id": "50ceb4ec",
   "metadata": {},
   "outputs": [
    {
     "data": {
      "text/plain": [
       "array([[ 0.28165377],\n",
       "       [-0.28478157],\n",
       "       [ 0.63215877]])"
      ]
     },
     "execution_count": 77,
     "metadata": {},
     "output_type": "execute_result"
    }
   ],
   "source": [
    "beta_hat[5]"
   ]
  },
  {
   "cell_type": "code",
   "execution_count": 76,
   "id": "1c475a52",
   "metadata": {},
   "outputs": [
    {
     "data": {
      "text/plain": [
       "[1.8830246090530405,\n",
       " 1.8674772032590674,\n",
       " 1.8676871891617328,\n",
       " 1.8671194308277832,\n",
       " 1.8674772347249928,\n",
       " 1.8668801055455013,\n",
       " 1.867477367221286,\n",
       " 1.87064230947654,\n",
       " 1.8674772035656833,\n",
       " 1.8674772032590394]"
      ]
     },
     "execution_count": 76,
     "metadata": {},
     "output_type": "execute_result"
    }
   ],
   "source": [
    "rmse"
   ]
  },
  {
   "cell_type": "markdown",
   "id": "e7a9b8a9",
   "metadata": {},
   "source": [
    "# I.13.12: U = G*m1*m2*(1/r2 - 1/r1): without noise"
   ]
  },
  {
   "cell_type": "code",
   "execution_count": 103,
   "id": "c86204f8",
   "metadata": {},
   "outputs": [],
   "source": [
    "from codes.bsr_class_I_13_12 import symreg\n",
    "from codes.bsr_class_I_13_12 import BSR\n",
    "import pandas as pd\n",
    "import numpy as np\n",
    "import random\n",
    "import time\n",
    "import pickle"
   ]
  },
  {
   "cell_type": "code",
   "execution_count": 104,
   "id": "70c129e7",
   "metadata": {},
   "outputs": [],
   "source": [
    "I_13_12_data = pd.read_csv(\"I_13_12_data.csv\")\n",
    "# x1: G*(m1**2) / r1; x2: m2/m1; x3: r2/r1. Note that feature index starts from 0.\n",
    "## sub-sampling 1000 data points out of 10000\n",
    "X = I_13_12_data.loc[1:1000, ['x1', 'x2', 'x3']]\n",
    "X = X.reset_index(drop=True)\n",
    "# y:U = x1*x2 - (x1*x2)/x3\n",
    "y = I_13_12_data.loc[1:1000, ['I.13.12_data$Y']]\n",
    "y = y.squeeze(axis=0)\n",
    "y = y.iloc[:,0]\n",
    "y = y.rename(\"x\")\n",
    "y = y.reset_index(drop=True)"
   ]
  },
  {
   "cell_type": "code",
   "execution_count": 105,
   "id": "f2426d51",
   "metadata": {},
   "outputs": [],
   "source": [
    "K = 5\n",
    "MM = 100 # number of iterations\n",
    "hyper_params = [{'treeNum': 5, 'itrNum': 100, 'alpha1':0.4, 'alpha2':0.4, 'beta':-1.2}]\n",
    "my_bsr = BSR(K,MM)"
   ]
  },
  {
   "cell_type": "code",
   "execution_count": 106,
   "id": "632e8d5a",
   "metadata": {},
   "outputs": [
    {
     "name": "stdout",
     "output_type": "stream",
     "text": [
      "0\n",
      "1\n",
      "2\n",
      "3\n",
      "4\n",
      "5\n",
      "6\n",
      "7\n",
      "8\n",
      "9\n"
     ]
    },
    {
     "data": {
      "text/plain": [
       "1238.5186820030212"
      ]
     },
     "execution_count": 106,
     "metadata": {},
     "output_type": "execute_result"
    }
   ],
   "source": [
    "numiter = 10\n",
    "rmse = [0] * (numiter)\n",
    "model_expression = [0] * (numiter)\n",
    "beta_hat = [0] * (numiter)\n",
    "y1 = y.to_numpy()\n",
    "st = time.time()\n",
    "\n",
    "for i in range(numiter):\n",
    "    my_bsr.fit(X, y)\n",
    "    model_expression[i] = my_bsr.model()\n",
    "    fitted_y, beta_hat[i] = my_bsr.predict(X)\n",
    "    fitted_y = fitted_y.flatten()\n",
    "    rmse[i] = (np.sum((y1 - fitted_y) ** 2) ** 0.50)/(len(y) ** 0.50)\n",
    "    print(i)\n",
    "\n",
    "time.time() - st"
   ]
  },
  {
   "cell_type": "code",
   "execution_count": 12,
   "id": "e5c4868c",
   "metadata": {},
   "outputs": [],
   "source": [
    "## saving the results\n",
    "BSRresults_I_13_12_K5 = {'X': X, 'y': y, 'rmse': rmse, 'expr': model_expression, 'runtime': time.time() - st}\n",
    "with open(\"BSRresults_I_13_12_K5.pkl\", \"wb\") as f:\n",
    "    pickle.dump(BSRresults_I_13_12_K5, f)"
   ]
  },
  {
   "cell_type": "code",
   "execution_count": 109,
   "id": "0fa72f78",
   "metadata": {},
   "outputs": [
    {
     "data": {
      "text/plain": [
       "(0.016745103497940672, 0)"
      ]
     },
     "execution_count": 109,
     "metadata": {},
     "output_type": "execute_result"
    }
   ],
   "source": [
    "min(rmse), rmse.index(min(rmse))"
   ]
  },
  {
   "cell_type": "code",
   "execution_count": 111,
   "id": "7c20b560",
   "metadata": {},
   "outputs": [
    {
     "data": {
      "text/plain": [
       "[0.016745103497940672,\n",
       " 45.382797578597874,\n",
       " 0.04935970471295213,\n",
       " 0.05175872113731233,\n",
       " 0.04576415000684497,\n",
       " 0.1642100137622485,\n",
       " 0.11891276546293833,\n",
       " 0.04220127602322634,\n",
       " 31.17917586446777,\n",
       " 0.058641269620801684]"
      ]
     },
     "execution_count": 111,
     "metadata": {},
     "output_type": "execute_result"
    }
   ],
   "source": [
    "rmse"
   ]
  },
  {
   "cell_type": "code",
   "execution_count": 113,
   "id": "c179fdb0",
   "metadata": {},
   "outputs": [
    {
     "data": {
      "text/plain": [
       "['(((x[0])*(x[1]))*(x[0]))*(x[2])',\n",
       " '1/[1/[(x[2])*(x[2])]]',\n",
       " '(1/[x[2]+x[2]])*(x[0])',\n",
       " '(x[1])*(x[2])',\n",
       " 'x[0]+x[1]']"
      ]
     },
     "execution_count": 113,
     "metadata": {},
     "output_type": "execute_result"
    }
   ],
   "source": [
    "model_expression[0]"
   ]
  },
  {
   "cell_type": "code",
   "execution_count": 11,
   "id": "e205f325",
   "metadata": {},
   "outputs": [
    {
     "data": {
      "text/plain": [
       "[array([[ 0.05302967],\n",
       "        [ 0.55256503],\n",
       "        [ 0.05296339],\n",
       "        [-0.01822351],\n",
       "        [ 0.84040376],\n",
       "        [-0.99999196]]),\n",
       " array([[ 5.61602173],\n",
       "        [-4.56509461],\n",
       "        [-0.05006882],\n",
       "        [-0.88863   ],\n",
       "        [-0.6185267 ],\n",
       "        [ 0.36154323]]),\n",
       " array([[-0.02175444],\n",
       "        [-0.99998881],\n",
       "        [-0.06071812],\n",
       "        [ 0.01410277],\n",
       "        [ 0.43233544],\n",
       "        [-0.07516263]]),\n",
       " array([[ 1.76973378e-01],\n",
       "        [-8.05733258e-04],\n",
       "        [ 8.97435764e-01],\n",
       "        [ 9.91190086e-01],\n",
       "        [-9.99989306e-01],\n",
       "        [-4.70893078e-01]]),\n",
       " array([[-0.06860992],\n",
       "        [ 1.23283963],\n",
       "        [-0.29610861],\n",
       "        [ 0.34465849],\n",
       "        [ 0.69684954],\n",
       "        [-0.50213862]]),\n",
       " array([[ 0.24355836],\n",
       "        [ 0.84481946],\n",
       "        [ 0.29176284],\n",
       "        [ 0.2126206 ],\n",
       "        [ 0.02273691],\n",
       "        [-1.00000784]]),\n",
       " array([[-7.72468877e-03],\n",
       "        [ 1.61786277e-01],\n",
       "        [-5.00032210e-01],\n",
       "        [ 3.81420871e-01],\n",
       "        [ 5.84606482e-05],\n",
       "        [-5.23503121e-02]]),\n",
       " array([[ 0.18283081],\n",
       "        [-1.35024642],\n",
       "        [ 1.0023455 ],\n",
       "        [-0.19444316],\n",
       "        [-1.00125339],\n",
       "        [-0.01621941]]),\n",
       " array([[-0.00190572],\n",
       "        [-0.2623916 ],\n",
       "        [-1.00000016],\n",
       "        [-0.00832515],\n",
       "        [ 0.97255928],\n",
       "        [ 0.32845302]]),\n",
       " array([[ 8.40356316e-02],\n",
       "        [-5.72796914e-03],\n",
       "        [-9.51201730e-01],\n",
       "        [ 9.48042971e-01],\n",
       "        [-9.99993563e-01],\n",
       "        [-4.63713415e-05]])]"
      ]
     },
     "execution_count": 11,
     "metadata": {},
     "output_type": "execute_result"
    }
   ],
   "source": [
    "beta_hat"
   ]
  },
  {
   "cell_type": "markdown",
   "id": "ec3ed11f",
   "metadata": {},
   "source": [
    "# I.13.12: U = G*m1*m2*(1/r2 - 1/r1): with noise sigma_sq = 1.5"
   ]
  },
  {
   "cell_type": "code",
   "execution_count": 114,
   "id": "cfe6b051",
   "metadata": {},
   "outputs": [],
   "source": [
    "from codes.bsr_class_I_13_12 import symreg\n",
    "from codes.bsr_class_I_13_12 import BSR\n",
    "import pandas as pd\n",
    "import numpy as np\n",
    "import random\n",
    "import time\n",
    "import pickle"
   ]
  },
  {
   "cell_type": "code",
   "execution_count": 122,
   "id": "ea89529f",
   "metadata": {},
   "outputs": [],
   "source": [
    "I_13_12_data = pd.read_csv(\"I_13_12_data.csv\")\n",
    "\n",
    "np.random.seed(10)\n",
    "\n",
    "## noise: sigma_sq = 1.5\n",
    "sigma = 1.50 ** 0.5\n",
    "\n",
    "# x1: G*(m1**2) / r1; x2: m2/m1; x3: r2/r1. Note that feature index starts from 0.\n",
    "## sub-sampling 1000 data points out of 10000\n",
    "X = I_13_12_data.loc[0:999, ['x1', 'x2', 'x3']]\n",
    "X = X.reset_index(drop=True)\n",
    "# y:U = x1*x2 - (x1*x2)/x3\n",
    "y = I_13_12_data.loc[0:999, ['I.13.12_data$Y']]\n",
    "y = y.squeeze(axis=0)\n",
    "y = y.iloc[:,0]\n",
    "y = y.rename(\"x\")\n",
    "y = y.reset_index(drop=True) + pd.Series(np.random.normal(0, sigma, X.shape[0])) # noisy vector"
   ]
  },
  {
   "cell_type": "code",
   "execution_count": 123,
   "id": "7abc4ed0",
   "metadata": {},
   "outputs": [],
   "source": [
    "K = 5\n",
    "MM = 100 # number of iterations\n",
    "hyper_params = [{'treeNum': 5, 'itrNum': 100, 'alpha1':0.4, 'alpha2':0.4, 'beta':-1.2}]\n",
    "my_bsr = BSR(K,MM)"
   ]
  },
  {
   "cell_type": "code",
   "execution_count": 124,
   "id": "e8f97303",
   "metadata": {},
   "outputs": [
    {
     "name": "stdout",
     "output_type": "stream",
     "text": [
      "0\n",
      "1\n",
      "2\n",
      "3\n",
      "4\n",
      "5\n",
      "6\n",
      "7\n",
      "8\n",
      "9\n"
     ]
    },
    {
     "data": {
      "text/plain": [
       "914.7910370826721"
      ]
     },
     "execution_count": 124,
     "metadata": {},
     "output_type": "execute_result"
    }
   ],
   "source": [
    "numiter = 10\n",
    "rmse = [0] * (numiter)\n",
    "model_expression = [0] * (numiter)\n",
    "beta_hat = [0] * (numiter)\n",
    "y1 = y.to_numpy()\n",
    "st = time.time()\n",
    "\n",
    "for i in range(numiter):\n",
    "    my_bsr.fit(X, y)\n",
    "    model_expression[i] = my_bsr.model()\n",
    "    fitted_y, beta_hat[i] = my_bsr.predict(X)\n",
    "    fitted_y = fitted_y.flatten()\n",
    "    rmse[i] = (np.sum((y1 - fitted_y) ** 2) ** 0.50)/(len(y) ** 0.50)\n",
    "    print(i)\n",
    "\n",
    "time.time() - st"
   ]
  },
  {
   "cell_type": "code",
   "execution_count": 30,
   "id": "32f1980c",
   "metadata": {},
   "outputs": [],
   "source": [
    "## saving the results\n",
    "BSRresults_I_13_12_K5_sigma_sq_1_5 = {'X': X, 'y': y, 'rmse': rmse, 'expr': model_expression, 'runtime': time.time() - st}\n",
    "with open(\"BSRresults_I_13_12_K5_sigma_sq_1.5.pkl\", \"wb\") as f:\n",
    "    pickle.dump(BSRresults_I_13_12_K5_sigma_sq_1_5, f)"
   ]
  },
  {
   "cell_type": "code",
   "execution_count": 125,
   "id": "0df07889",
   "metadata": {},
   "outputs": [
    {
     "data": {
      "text/plain": [
       "(1.2135604416958017, 2)"
      ]
     },
     "execution_count": 125,
     "metadata": {},
     "output_type": "execute_result"
    }
   ],
   "source": [
    "min(rmse), rmse.index(min(rmse))"
   ]
  },
  {
   "cell_type": "code",
   "execution_count": 126,
   "id": "df38d136",
   "metadata": {},
   "outputs": [
    {
     "data": {
      "text/plain": [
       "[1.6985888746851774,\n",
       " 2.258110154506329,\n",
       " 1.2135604416958017,\n",
       " 30.998597565658546,\n",
       " 31.3129278814682,\n",
       " 31.266814581428232,\n",
       " 1.6556830426936253,\n",
       " 1.9211646192864191,\n",
       " 31.220866392477337,\n",
       " 1.260281081196234]"
      ]
     },
     "execution_count": 126,
     "metadata": {},
     "output_type": "execute_result"
    }
   ],
   "source": [
    "rmse[3]"
   ]
  },
  {
   "cell_type": "code",
   "execution_count": 127,
   "id": "591c8bb8",
   "metadata": {},
   "outputs": [
    {
     "data": {
      "text/plain": [
       "['x[0]+x[2]+1/[x[0]]',\n",
       " '1/[x[1]]',\n",
       " '1/[x[2]+x[2]]',\n",
       " '(x[2])*(x[0])+x[0]',\n",
       " 'x[2]+x[1]']"
      ]
     },
     "execution_count": 127,
     "metadata": {},
     "output_type": "execute_result"
    }
   ],
   "source": [
    "model_expression[3]"
   ]
  },
  {
   "cell_type": "code",
   "execution_count": 128,
   "id": "8a1b26c0",
   "metadata": {},
   "outputs": [
    {
     "data": {
      "text/plain": [
       "array([[ 6.85860713],\n",
       "       [-6.85778231],\n",
       "       [ 4.34163535],\n",
       "       [-1.77648749],\n",
       "       [ 0.78415411],\n",
       "       [ 3.93070755]])"
      ]
     },
     "execution_count": 128,
     "metadata": {},
     "output_type": "execute_result"
    }
   ],
   "source": [
    "beta_hat[3]"
   ]
  },
  {
   "cell_type": "markdown",
   "id": "ee1d84c7",
   "metadata": {},
   "source": [
    "# I.18.4: r = (m1*r1 + m2*r2)/m2: without noise"
   ]
  },
  {
   "cell_type": "code",
   "execution_count": 37,
   "id": "02daeaca",
   "metadata": {},
   "outputs": [],
   "source": [
    "from codes.bsr_class_I_18_4 import symreg\n",
    "from codes.bsr_class_I_18_4 import BSR\n",
    "import pandas as pd\n",
    "import numpy as np\n",
    "import random\n",
    "import time\n",
    "import pickle"
   ]
  },
  {
   "cell_type": "code",
   "execution_count": 38,
   "id": "2ae38aa4",
   "metadata": {},
   "outputs": [],
   "source": [
    "I_18_4_data = pd.read_csv(\"I_18_4_data.csv\")\n",
    "# x1: r1; x2: m2/m1; x3: r2/r1. Note that feature index starts from 0.\n",
    "## sub-sampling 1000 data points out of 10000\n",
    "X = I_18_4_data.loc[1:1000, ['x1', 'x2', 'x3']]\n",
    "X = X.reset_index(drop=True)\n",
    "# y:r = x1/x2 + (x1*x3)\n",
    "y = I_18_4_data.loc[1:1000, ['I.18.4_data$Y']]\n",
    "y = y.squeeze(axis=0)\n",
    "y = y.iloc[:,0]\n",
    "y = y.rename(\"x\")\n",
    "y = y.reset_index(drop=True)"
   ]
  },
  {
   "cell_type": "code",
   "execution_count": 39,
   "id": "4bb74d54",
   "metadata": {},
   "outputs": [],
   "source": [
    "K = 3\n",
    "MM = 100 # number of iterations\n",
    "hyper_params = [{'treeNum': 3, 'itrNum': 100, 'alpha1':0.4, 'alpha2':0.4, 'beta':-1.2}]\n",
    "my_bsr = BSR(K,MM)"
   ]
  },
  {
   "cell_type": "code",
   "execution_count": 40,
   "id": "c467299c",
   "metadata": {},
   "outputs": [
    {
     "data": {
      "text/plain": [
       "1055.9662382602692"
      ]
     },
     "execution_count": 40,
     "metadata": {},
     "output_type": "execute_result"
    }
   ],
   "source": [
    "numiter = 10\n",
    "rmse = [0] * (numiter)\n",
    "model_expression = [0] * (numiter)\n",
    "beta_hat = [0] * (numiter)\n",
    "y1 = y.to_numpy()\n",
    "st = time.time()\n",
    "\n",
    "for i in range(numiter):\n",
    "    my_bsr.fit(X, y)\n",
    "    model_expression[i] = my_bsr.model()\n",
    "    fitted_y, beta_hat[i] = my_bsr.predict(X)\n",
    "    rmse[i] = (np.sum((y1 - fitted_y) ** 2) ** 0.50)/(len(y) ** 0.50)\n",
    "\n",
    "time.time() - st"
   ]
  },
  {
   "cell_type": "code",
   "execution_count": 44,
   "id": "31a2b02b",
   "metadata": {},
   "outputs": [],
   "source": [
    "## saving the results\n",
    "BSRresults_I_18_4_K3 = {'X': X, 'y': y, 'rmse': rmse, 'expr': model_expression, 'runtime': time.time() - st}\n",
    "with open(\"BSRresults_I_18_4_K3.pkl\", \"wb\") as f:\n",
    "    pickle.dump(BSRresults_I_18_4_K3, f)"
   ]
  },
  {
   "cell_type": "code",
   "execution_count": 41,
   "id": "a0f8fa2c",
   "metadata": {},
   "outputs": [
    {
     "data": {
      "text/plain": [
       "[90.02221976309467,\n",
       " 87.90962231457836,\n",
       " 90.50153463791713,\n",
       " 90.52489043336816,\n",
       " 90.52488600306185,\n",
       " 90.22409937700917,\n",
       " 90.52477481336696,\n",
       " 90.5248965955731,\n",
       " 90.52489659557713,\n",
       " 90.52489659557479]"
      ]
     },
     "execution_count": 41,
     "metadata": {},
     "output_type": "execute_result"
    }
   ],
   "source": [
    "rmse"
   ]
  },
  {
   "cell_type": "code",
   "execution_count": 42,
   "id": "c2555e56",
   "metadata": {},
   "outputs": [
    {
     "data": {
      "text/plain": [
       "[['1/[(x[1])*(x[2])]', '1/[x[1]]', '1/[1/[x[0]]]'],\n",
       " ['(x[1])*((x[0])*(1/[x[1]]))',\n",
       "  '(((x[2])*((x[0])*(((x[2])*(x[1]))*(x[0]))))*(x[1]))*(x[0])',\n",
       "  '1/[x[1]]'],\n",
       " ['(1/[x[1]])*((x[2])*(1/[1/[x[0]]]))',\n",
       "  '(1/[x[2]])*((x[0])*(1/[x[1]]))',\n",
       "  '(x[1])*(x[0])'],\n",
       " ['1/[1/[(x[1])*(x[1])]]', '(x[2])*(x[0])', '1/[(x[1])*(1/[x[0]])]'],\n",
       " ['(x[0])*(1/[x[1]])',\n",
       "  '1/[1/[(x[0])*(x[2])]]',\n",
       "  '(((x[2])*(x[0]))*(x[0]))*(1/[x[1]])'],\n",
       " ['1/[(1/[x[0]])*(x[2])]', '1/[(x[1])*(x[1])]', '(x[2])*((x[0])*(x[2]))'],\n",
       " ['1/[(1/[x[1]])*(1/[(x[1])*(x[2])])]', '(1/[x[1]])*(x[0])', '(x[2])*(x[0])'],\n",
       " ['1/[1/[1/[x[2]]]]',\n",
       "  '(1/[x[1]])*(x[0])',\n",
       "  '1/[(x[1])*(1/[((x[1])*(x[2]))*(x[0])])]'],\n",
       " ['(x[2])*(x[0])',\n",
       "  '1/[1/[1/[((x[0])*(x[2]))*(x[2])]]]',\n",
       "  '((1/[x[1]])*(x[1]))*(1/[(1/[x[0]])*(x[1])])'],\n",
       " ['(x[0])*(1/[x[1]])',\n",
       "  '1/[1/[x[1]]]',\n",
       "  '1/[(x[1])*(1/[((x[1])*(x[0]))*(x[2])])]']]"
      ]
     },
     "execution_count": 42,
     "metadata": {},
     "output_type": "execute_result"
    }
   ],
   "source": [
    "model_expression"
   ]
  },
  {
   "cell_type": "code",
   "execution_count": 43,
   "id": "15ba5843",
   "metadata": {},
   "outputs": [
    {
     "data": {
      "text/plain": [
       "[array([[ 0.34523879],\n",
       "        [ 1.56509526],\n",
       "        [-1.96696139],\n",
       "        [ 2.14288977]]),\n",
       " array([[-7.01007986e-01],\n",
       "        [ 2.14512341e+00],\n",
       "        [ 1.37821246e-03],\n",
       "        [ 7.21914155e-01]]),\n",
       " array([[-0.07576807],\n",
       "        [ 1.26291354],\n",
       "        [ 0.23844584],\n",
       "        [ 0.54913945]]),\n",
       " array([[6.30955834e-07],\n",
       "        [3.03942082e-08],\n",
       "        [9.99999645e-01],\n",
       "        [9.99999862e-01]]),\n",
       " array([[3.51535213e-06],\n",
       "        [9.99997857e-01],\n",
       "        [9.99997647e-01],\n",
       "        [1.24390360e-06]]),\n",
       " array([[-0.00223998],\n",
       "        [ 1.56048624],\n",
       "        [ 0.11011843],\n",
       "        [ 0.37011446]]),\n",
       " array([[7.96859997e-06],\n",
       "        [2.85201490e-07],\n",
       "        [9.99998426e-01],\n",
       "        [9.99995223e-01]]),\n",
       " array([[-4.38465598e-08],\n",
       "        [ 3.26379840e-07],\n",
       "        [ 9.99999879e-01],\n",
       "        [ 9.99999922e-01]]),\n",
       " array([[ 5.99844523e-07],\n",
       "        [ 9.99999781e-01],\n",
       "        [-1.72508009e-07],\n",
       "        [ 9.99999944e-01]]),\n",
       " array([[2.27998849e-07],\n",
       "        [9.99999946e-01],\n",
       "        [3.46256724e-08],\n",
       "        [9.99999862e-01]])]"
      ]
     },
     "execution_count": 43,
     "metadata": {},
     "output_type": "execute_result"
    }
   ],
   "source": [
    "beta_hat"
   ]
  },
  {
   "cell_type": "markdown",
   "id": "84772b1f",
   "metadata": {},
   "source": [
    "# I.18.4: r = (m1*r1 + m2*r2)/m2: with noise, sigma_sq = 2.5"
   ]
  },
  {
   "cell_type": "code",
   "execution_count": 45,
   "id": "1b16d706",
   "metadata": {},
   "outputs": [],
   "source": [
    "from codes.bsr_class_I_18_4 import symreg\n",
    "from codes.bsr_class_I_18_4 import BSR\n",
    "import pandas as pd\n",
    "import numpy as np\n",
    "import random\n",
    "import time\n",
    "import pickle"
   ]
  },
  {
   "cell_type": "code",
   "execution_count": 46,
   "id": "287012dc",
   "metadata": {},
   "outputs": [],
   "source": [
    "I_18_4_data = pd.read_csv(\"I_18_4_data.csv\")\n",
    "\n",
    "np.random.seed(10)\n",
    "\n",
    "## noise: sigma_sq = 2.5\n",
    "sigma = 2.5 ** 0.5\n",
    "\n",
    "# x1: r1; x2: m2/m1; x3: r2/r1. Note that feature index starts from 0.\n",
    "## sub-sampling 1000 data points out of 10000\n",
    "X = I_18_4_data.loc[1:1000, ['x1', 'x2', 'x3']]\n",
    "X = X.reset_index(drop=True)\n",
    "# y:r = x1/x2 + (x1*x3)\n",
    "y = I_18_4_data.loc[1:1000, ['I.18.4_data$Y']]\n",
    "y = y.squeeze(axis=0)\n",
    "y = y.iloc[:,0]\n",
    "y = y.rename(\"x\")\n",
    "y = y.reset_index(drop=True) + pd.Series(np.random.normal(0, sigma, X.shape[0])) # noisy vector"
   ]
  },
  {
   "cell_type": "code",
   "execution_count": 47,
   "id": "4a95cb91",
   "metadata": {},
   "outputs": [],
   "source": [
    "K = 3\n",
    "MM = 100 # number of iterations\n",
    "hyper_params = [{'treeNum': 3, 'itrNum': 100, 'alpha1':0.4, 'alpha2':0.4, 'beta':-1.2}]\n",
    "my_bsr = BSR(K,MM)"
   ]
  },
  {
   "cell_type": "code",
   "execution_count": 48,
   "id": "e4f10fa7",
   "metadata": {},
   "outputs": [
    {
     "data": {
      "text/plain": [
       "430.9647810459137"
      ]
     },
     "execution_count": 48,
     "metadata": {},
     "output_type": "execute_result"
    }
   ],
   "source": [
    "numiter = 10\n",
    "rmse = [0] * (numiter)\n",
    "model_expression = [0] * (numiter)\n",
    "beta_hat = [0] * (numiter)\n",
    "y1 = y.to_numpy()\n",
    "st = time.time()\n",
    "\n",
    "for i in range(numiter):\n",
    "    my_bsr.fit(X, y)\n",
    "    model_expression[i] = my_bsr.model()\n",
    "    fitted_y, beta_hat[i] = my_bsr.predict(X)\n",
    "    rmse[i] = (np.sum((y1 - fitted_y) ** 2) ** 0.50)/(len(y) ** 0.50)\n",
    "\n",
    "time.time() - st"
   ]
  },
  {
   "cell_type": "code",
   "execution_count": 52,
   "id": "479d74ba",
   "metadata": {},
   "outputs": [],
   "source": [
    "## saving the results\n",
    "BSRresults_I_18_4_K3_sigma_sq_2_5 = {'X': X, 'y': y, 'rmse': rmse, 'expr': model_expression, 'runtime': time.time() - st}\n",
    "with open(\"BSRresults_I_18_4_K3_sigma_sq_2.5.pkl\", \"wb\") as f:\n",
    "    pickle.dump(BSRresults_I_18_4_K3_sigma_sq_2_5, f)"
   ]
  },
  {
   "cell_type": "code",
   "execution_count": 49,
   "id": "829a2aca",
   "metadata": {},
   "outputs": [
    {
     "data": {
      "text/plain": [
       "[95.94906863526408,\n",
       " 89.75334459704185,\n",
       " 91.72782073934155,\n",
       " 97.98182105268523,\n",
       " 98.00275502479083,\n",
       " 98.78842006521175,\n",
       " 86.34964827389321,\n",
       " 98.35891426844792,\n",
       " 91.86042830383806,\n",
       " 93.30633074927074]"
      ]
     },
     "execution_count": 49,
     "metadata": {},
     "output_type": "execute_result"
    }
   ],
   "source": [
    "rmse"
   ]
  },
  {
   "cell_type": "code",
   "execution_count": 50,
   "id": "1e5f592c",
   "metadata": {},
   "outputs": [
    {
     "data": {
      "text/plain": [
       "[['1/[x[0]]',\n",
       "  '(1/[((x[2])*(x[1]))*(1/[x[0]])])*(x[2])',\n",
       "  '(1/[x[1]])*((x[0])*(1/[x[1]]))'],\n",
       " ['1/[(1/[x[1]])*(x[0])]',\n",
       "  '1/[(x[0])*((1/[x[0]])*(1/[1/[x[2]]]))]',\n",
       "  '((1/[x[2]])*(1/[x[0]]))*(1/[x[2]])'],\n",
       " ['(x[2])*(((x[1])*((x[2])*(x[0])))*(x[2]))',\n",
       "  '((x[1])*(x[0]))*(x[2])',\n",
       "  '1/[(x[1])*(x[2])]'],\n",
       " ['(x[0])*(1/[x[2]])', '(x[2])*(x[1])', '1/[x[0]]'],\n",
       " ['1/[1/[x[0]]]', '1/[x[1]]', '(1/[x[1]])*((1/[x[0]])*(x[1]))'],\n",
       " ['1/[(((x[0])*(x[2]))*(x[1]))*(x[0])]',\n",
       "  '1/[1/[(x[0])*(x[1])]]',\n",
       "  '(1/[x[2]])*(x[0])'],\n",
       " ['1/[x[2]]', '(x[1])*(1/[x[1]])', '(x[2])*(x[2])'],\n",
       " ['((x[1])*(((x[0])*(x[0]))*(x[0])))*((1/[x[0]])*(1/[x[2]]))',\n",
       "  '1/[(x[1])*(x[1])]',\n",
       "  '1/[1/[x[0]]]'],\n",
       " ['(x[2])*(x[2])', '(1/[x[0]])*(x[1])', '(x[1])*(x[0])'],\n",
       " ['1/[(x[0])*(1/[1/[x[1]]])]', '1/[x[1]]', '(x[1])*((x[1])*(x[0]))']]"
      ]
     },
     "execution_count": 50,
     "metadata": {},
     "output_type": "execute_result"
    }
   ],
   "source": [
    "model_expression"
   ]
  },
  {
   "cell_type": "code",
   "execution_count": 51,
   "id": "c678c794",
   "metadata": {},
   "outputs": [
    {
     "data": {
      "text/plain": [
       "[array([[ 2.19365803],\n",
       "        [-0.7700369 ],\n",
       "        [ 1.23393452],\n",
       "        [-0.12018092]]),\n",
       " array([[ 1.07537124],\n",
       "        [-0.16709739],\n",
       "        [ 3.70770075],\n",
       "        [-1.40178135]]),\n",
       " array([[ 0.0358638 ],\n",
       "        [-0.06287469],\n",
       "        [ 0.84864391],\n",
       "        [ 1.03636026]]),\n",
       " array([[ 0.46073894],\n",
       "        [ 1.70944502],\n",
       "        [ 0.35130666],\n",
       "        [-0.30261181]]),\n",
       " array([[-0.58378947],\n",
       "        [ 2.19345956],\n",
       "        [ 0.64375872],\n",
       "        [-0.06093003]]),\n",
       " array([[-0.00951876],\n",
       "        [ 0.01602981],\n",
       "        [ 0.58177418],\n",
       "        [ 1.53925105]]),\n",
       " array([[-2.61708646],\n",
       "        [ 6.09921015],\n",
       "        [-2.61708646],\n",
       "        [ 1.40788084]]),\n",
       " array([[-0.45541743],\n",
       "        [-0.06045373],\n",
       "        [ 0.18310239],\n",
       "        [ 2.46072038]]),\n",
       " array([[ 2.56985737],\n",
       "        [-1.0781203 ],\n",
       "        [-0.2537086 ],\n",
       "        [ 1.44336796]]),\n",
       " array([[ 0.69328783],\n",
       "        [-0.97140252],\n",
       "        [ 2.42646428],\n",
       "        [ 0.25143497]])]"
      ]
     },
     "execution_count": 51,
     "metadata": {},
     "output_type": "execute_result"
    }
   ],
   "source": [
    "beta_hat"
   ]
  },
  {
   "cell_type": "markdown",
   "id": "c651a62d",
   "metadata": {},
   "source": [
    "# I.12.11: F = q*(Ef+Bv*sin(theta)), without noise"
   ]
  },
  {
   "cell_type": "code",
   "execution_count": 78,
   "id": "7b128647",
   "metadata": {},
   "outputs": [],
   "source": [
    "from codes.bsr_class_I_12_11 import symreg\n",
    "from codes.bsr_class_I_12_11 import BSR\n",
    "import pandas as pd\n",
    "import numpy as np\n",
    "import random\n",
    "import time\n",
    "import pickle"
   ]
  },
  {
   "cell_type": "code",
   "execution_count": 79,
   "id": "7ca67b65",
   "metadata": {},
   "outputs": [],
   "source": [
    "I_12_11_data = pd.read_csv(\"I_12_11_data.csv\")\n",
    "\n",
    "# x1: Ef*q; x2: Bv/Ef; x3: theta. Note that feature index starts from 0.\n",
    "## sub-sampling 1000 data points out of 10000\n",
    "X = I_12_11_data.loc[1:1000, ['x1', 'x2', 'x3']]\n",
    "X = X.reset_index(drop=True)\n",
    "# y:F = x1 + (x1*x2*sin(x3))\n",
    "y = I_12_11_data.loc[1:1000, ['I.12.11_data$Y']]\n",
    "y = y.squeeze(axis=0)\n",
    "y = y.iloc[:,0]\n",
    "y = y.rename(\"x\")\n",
    "y = y.reset_index(drop=True)"
   ]
  },
  {
   "cell_type": "code",
   "execution_count": 80,
   "id": "dfff120a",
   "metadata": {},
   "outputs": [],
   "source": [
    "K = 3\n",
    "MM = 100 # number of iterations\n",
    "hyper_params = [{'treeNum': 3, 'itrNum': 100, 'alpha1':0.4, 'alpha2':0.4, 'beta':-1.2}]\n",
    "my_bsr = BSR(K,MM)"
   ]
  },
  {
   "cell_type": "code",
   "execution_count": 81,
   "id": "1700d2bd",
   "metadata": {},
   "outputs": [
    {
     "name": "stdout",
     "output_type": "stream",
     "text": [
      "0\n",
      "1\n",
      "2\n",
      "3\n",
      "4\n",
      "5\n",
      "6\n",
      "7\n",
      "8\n",
      "9\n"
     ]
    },
    {
     "data": {
      "text/plain": [
       "157.1590769290924"
      ]
     },
     "execution_count": 81,
     "metadata": {},
     "output_type": "execute_result"
    }
   ],
   "source": [
    "numiter = 10\n",
    "rmse = [0] * (numiter)\n",
    "model_expression = [0] * (numiter)\n",
    "beta_hat = [0] * (numiter)\n",
    "y1 = y.to_numpy()\n",
    "st = time.time()\n",
    "\n",
    "for i in range(numiter):\n",
    "    my_bsr.fit(X, y)\n",
    "    model_expression[i] = my_bsr.model()\n",
    "    fitted_y, beta_hat[i] = my_bsr.predict(X)\n",
    "    fitted_y = fitted_y.flatten()\n",
    "    rmse[i] = (np.sum((y1 - fitted_y) ** 2) ** 0.50)/(len(y) ** 0.50)\n",
    "    print(i)\n",
    "\n",
    "time.time() - st"
   ]
  },
  {
   "cell_type": "code",
   "execution_count": 60,
   "id": "b125ded6",
   "metadata": {},
   "outputs": [],
   "source": [
    "## saving the results\n",
    "BSRresults_I_12_11_K3 = {'X': X, 'y': y, 'rmse': rmse, 'expr': model_expression, 'runtime': time.time() - st}\n",
    "with open(\"BSRresults_I_12_11_K3.pkl\", \"wb\") as f:\n",
    "    pickle.dump(BSRresults_I_12_11_K3, f)"
   ]
  },
  {
   "cell_type": "code",
   "execution_count": 83,
   "id": "36bfeca8",
   "metadata": {},
   "outputs": [
    {
     "data": {
      "text/plain": [
       "(6.363989255262762, 0)"
      ]
     },
     "execution_count": 83,
     "metadata": {},
     "output_type": "execute_result"
    }
   ],
   "source": [
    "min(rmse), rmse.index(min(rmse))"
   ]
  },
  {
   "cell_type": "code",
   "execution_count": 84,
   "id": "28ac2ce3",
   "metadata": {},
   "outputs": [
    {
     "data": {
      "text/plain": [
       "['((x[1])*(sin(x[2])))*((x[1])*(x[2]))', 'sin(x[2])', 'sin((x[0])*(x[2]))']"
      ]
     },
     "execution_count": 84,
     "metadata": {},
     "output_type": "execute_result"
    }
   ],
   "source": [
    "model_expression[0]"
   ]
  },
  {
   "cell_type": "code",
   "execution_count": 85,
   "id": "41112a5f",
   "metadata": {},
   "outputs": [
    {
     "data": {
      "text/plain": [
       "array([[ 3.09582238],\n",
       "       [-0.16317558],\n",
       "       [ 9.31833738],\n",
       "       [-1.84391733]])"
      ]
     },
     "execution_count": 85,
     "metadata": {},
     "output_type": "execute_result"
    }
   ],
   "source": [
    "beta_hat[0]"
   ]
  },
  {
   "cell_type": "markdown",
   "id": "1d9d6a16",
   "metadata": {},
   "source": [
    "# I.12.11: F = q*(Ef+Bv*sin(theta)), with noise sigma_sq = 2"
   ]
  },
  {
   "cell_type": "code",
   "execution_count": 86,
   "id": "3b5ffd08",
   "metadata": {},
   "outputs": [],
   "source": [
    "from codes.bsr_class_I_12_11 import symreg\n",
    "from codes.bsr_class_I_12_11 import BSR\n",
    "import pandas as pd\n",
    "import numpy as np\n",
    "import random\n",
    "import time\n",
    "import pickle"
   ]
  },
  {
   "cell_type": "code",
   "execution_count": 94,
   "id": "3ebbdc76",
   "metadata": {},
   "outputs": [],
   "source": [
    "I_12_11_data = pd.read_csv(\"I_12_11_data.csv\")\n",
    "\n",
    "np.random.seed(10)\n",
    "\n",
    "## noise: sigma_sq = 2\n",
    "sigma = 2 ** 0.5\n",
    "\n",
    "# x1: Ef*q; x2: Bv/Ef; x3: theta. Note that feature index starts from 0.\n",
    "## sub-sampling 1000 data points out of 10000\n",
    "X = I_12_11_data.loc[0:999, ['x1', 'x2', 'x3']]\n",
    "X = X.reset_index(drop=True)\n",
    "# y:F = x1 + (x1*x2*sin(x3))\n",
    "y = I_12_11_data.loc[0:999, ['I.12.11_data$Y']]\n",
    "y = y.squeeze(axis=0)\n",
    "y = y.iloc[:,0]\n",
    "y = y.rename(\"x\")\n",
    "y = y.reset_index(drop=True) + pd.Series(np.random.normal(0, sigma, X.shape[0])) # noisy vector"
   ]
  },
  {
   "cell_type": "code",
   "execution_count": 95,
   "id": "7f83f4d5",
   "metadata": {},
   "outputs": [],
   "source": [
    "K = 3\n",
    "MM = 100 # number of iterations\n",
    "hyper_params = [{'treeNum': 3, 'itrNum': 100, 'alpha1':0.4, 'alpha2':0.4, 'beta':-1.2}]\n",
    "my_bsr = BSR(K,MM)"
   ]
  },
  {
   "cell_type": "code",
   "execution_count": 96,
   "id": "a2a0a669",
   "metadata": {},
   "outputs": [
    {
     "name": "stdout",
     "output_type": "stream",
     "text": [
      "0\n",
      "1\n",
      "2\n",
      "3\n",
      "4\n",
      "5\n",
      "6\n",
      "7\n",
      "8\n",
      "9\n"
     ]
    },
    {
     "data": {
      "text/plain": [
       "152.2785038948059"
      ]
     },
     "execution_count": 96,
     "metadata": {},
     "output_type": "execute_result"
    }
   ],
   "source": [
    "numiter = 10\n",
    "rmse = [0] * (numiter)\n",
    "model_expression = [0] * (numiter)\n",
    "beta_hat = [0] * (numiter)\n",
    "y1 = y.to_numpy()\n",
    "st = time.time()\n",
    "\n",
    "for i in range(numiter):\n",
    "    my_bsr.fit(X, y)\n",
    "    model_expression[i] = my_bsr.model()\n",
    "    fitted_y, beta_hat[i] = my_bsr.predict(X)\n",
    "    fitted_y = fitted_y.flatten()\n",
    "    rmse[i] = (np.sum((y1 - fitted_y) ** 2) ** 0.50)/(len(y) ** 0.50)\n",
    "    print(i)\n",
    "\n",
    "time.time() - st"
   ]
  },
  {
   "cell_type": "code",
   "execution_count": 70,
   "id": "0d978386",
   "metadata": {},
   "outputs": [],
   "source": [
    "## saving the results\n",
    "BSRresults_I_12_11_K3_sigma_sq_2 = {'X': X, 'y': y, 'rmse': rmse, 'expr': model_expression, 'runtime': time.time() - st}\n",
    "with open(\"BSRresults_I_12_11_K3_sigma_sq_2.pkl\", \"wb\") as f:\n",
    "    pickle.dump(BSRresults_I_12_11_K3_sigma_sq_2, f)"
   ]
  },
  {
   "cell_type": "code",
   "execution_count": 98,
   "id": "9fbc4486",
   "metadata": {},
   "outputs": [
    {
     "data": {
      "text/plain": [
       "(3.2643906125340423, 9)"
      ]
     },
     "execution_count": 98,
     "metadata": {},
     "output_type": "execute_result"
    }
   ],
   "source": [
    "min(rmse), rmse.index(min(rmse))"
   ]
  },
  {
   "cell_type": "code",
   "execution_count": 100,
   "id": "f008a7af",
   "metadata": {},
   "outputs": [
    {
     "data": {
      "text/plain": [
       "['sin((x[0])*(x[2]))', 'sin((x[2])*(x[0]))', '(x[2])*(x[1])']"
      ]
     },
     "execution_count": 100,
     "metadata": {},
     "output_type": "execute_result"
    }
   ],
   "source": [
    "model_expression[1]"
   ]
  },
  {
   "cell_type": "code",
   "execution_count": 101,
   "id": "fbd335df",
   "metadata": {},
   "outputs": [
    {
     "data": {
      "text/plain": [
       "array([[ 3.0543957 ],\n",
       "       [-0.08397284],\n",
       "       [-0.08397284],\n",
       "       [ 0.10745843]])"
      ]
     },
     "execution_count": 101,
     "metadata": {},
     "output_type": "execute_result"
    }
   ],
   "source": [
    "beta_hat[1]"
   ]
  },
  {
   "cell_type": "code",
   "execution_count": 102,
   "id": "df96f22d",
   "metadata": {},
   "outputs": [
    {
     "data": {
      "text/plain": [
       "10.31105870050605"
      ]
     },
     "execution_count": 102,
     "metadata": {},
     "output_type": "execute_result"
    }
   ],
   "source": [
    "rmse[1]"
   ]
  },
  {
   "cell_type": "code",
   "execution_count": null,
   "id": "e231d4a9",
   "metadata": {},
   "outputs": [],
   "source": []
  }
 ],
 "metadata": {
  "kernelspec": {
   "display_name": "Python 3 (ipykernel)",
   "language": "python",
   "name": "python3"
  },
  "language_info": {
   "codemirror_mode": {
    "name": "ipython",
    "version": 3
   },
   "file_extension": ".py",
   "mimetype": "text/x-python",
   "name": "python",
   "nbconvert_exporter": "python",
   "pygments_lexer": "ipython3",
   "version": "3.11.5"
  }
 },
 "nbformat": 4,
 "nbformat_minor": 5
}
